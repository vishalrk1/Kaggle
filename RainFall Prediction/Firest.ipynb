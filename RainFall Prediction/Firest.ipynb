{
 "cells": [
  {
   "cell_type": "code",
   "execution_count": 1,
   "id": "e9295050-d4ed-4204-9992-560ded96b158",
   "metadata": {},
   "outputs": [],
   "source": [
    "import numpy as np\n",
    "import pandas as pd\n",
    "import matplotlib.pyplot as plt\n",
    "import seaborn as sns\n",
    "\n",
    "from sklearn.metrics import classification_report,accuracy_score,plot_confusion_matrix\n",
    "from sklearn.preprocessing import MinMaxScaler\n",
    "from sklearn.model_selection import train_test_split,GridSearchCV"
   ]
  },
  {
   "cell_type": "code",
   "execution_count": 2,
   "id": "6f93b754-424f-4f08-abdf-4a8065566b05",
   "metadata": {},
   "outputs": [],
   "source": [
    "df = pd.read_csv('weatherAUS.csv')"
   ]
  },
  {
   "cell_type": "code",
   "execution_count": 3,
   "id": "3d42f3b7-2ae6-40bc-b2e7-9a421f1e7a00",
   "metadata": {},
   "outputs": [
    {
     "data": {
      "text/html": [
       "<div>\n",
       "<style scoped>\n",
       "    .dataframe tbody tr th:only-of-type {\n",
       "        vertical-align: middle;\n",
       "    }\n",
       "\n",
       "    .dataframe tbody tr th {\n",
       "        vertical-align: top;\n",
       "    }\n",
       "\n",
       "    .dataframe thead th {\n",
       "        text-align: right;\n",
       "    }\n",
       "</style>\n",
       "<table border=\"1\" class=\"dataframe\">\n",
       "  <thead>\n",
       "    <tr style=\"text-align: right;\">\n",
       "      <th></th>\n",
       "      <th>Date</th>\n",
       "      <th>Location</th>\n",
       "      <th>MinTemp</th>\n",
       "      <th>MaxTemp</th>\n",
       "      <th>Rainfall</th>\n",
       "      <th>Evaporation</th>\n",
       "      <th>Sunshine</th>\n",
       "      <th>WindGustDir</th>\n",
       "      <th>WindGustSpeed</th>\n",
       "      <th>WindDir9am</th>\n",
       "      <th>...</th>\n",
       "      <th>Humidity3pm</th>\n",
       "      <th>Pressure9am</th>\n",
       "      <th>Pressure3pm</th>\n",
       "      <th>Cloud9am</th>\n",
       "      <th>Cloud3pm</th>\n",
       "      <th>Temp9am</th>\n",
       "      <th>Temp3pm</th>\n",
       "      <th>RainToday</th>\n",
       "      <th>RISK_MM</th>\n",
       "      <th>RainTomorrow</th>\n",
       "    </tr>\n",
       "  </thead>\n",
       "  <tbody>\n",
       "    <tr>\n",
       "      <th>0</th>\n",
       "      <td>2008-12-01</td>\n",
       "      <td>Albury</td>\n",
       "      <td>13.4</td>\n",
       "      <td>22.9</td>\n",
       "      <td>0.6</td>\n",
       "      <td>NaN</td>\n",
       "      <td>NaN</td>\n",
       "      <td>W</td>\n",
       "      <td>44.0</td>\n",
       "      <td>W</td>\n",
       "      <td>...</td>\n",
       "      <td>22.0</td>\n",
       "      <td>1007.7</td>\n",
       "      <td>1007.1</td>\n",
       "      <td>8.0</td>\n",
       "      <td>NaN</td>\n",
       "      <td>16.9</td>\n",
       "      <td>21.8</td>\n",
       "      <td>No</td>\n",
       "      <td>0.0</td>\n",
       "      <td>No</td>\n",
       "    </tr>\n",
       "    <tr>\n",
       "      <th>1</th>\n",
       "      <td>2008-12-02</td>\n",
       "      <td>Albury</td>\n",
       "      <td>7.4</td>\n",
       "      <td>25.1</td>\n",
       "      <td>0.0</td>\n",
       "      <td>NaN</td>\n",
       "      <td>NaN</td>\n",
       "      <td>WNW</td>\n",
       "      <td>44.0</td>\n",
       "      <td>NNW</td>\n",
       "      <td>...</td>\n",
       "      <td>25.0</td>\n",
       "      <td>1010.6</td>\n",
       "      <td>1007.8</td>\n",
       "      <td>NaN</td>\n",
       "      <td>NaN</td>\n",
       "      <td>17.2</td>\n",
       "      <td>24.3</td>\n",
       "      <td>No</td>\n",
       "      <td>0.0</td>\n",
       "      <td>No</td>\n",
       "    </tr>\n",
       "    <tr>\n",
       "      <th>2</th>\n",
       "      <td>2008-12-03</td>\n",
       "      <td>Albury</td>\n",
       "      <td>12.9</td>\n",
       "      <td>25.7</td>\n",
       "      <td>0.0</td>\n",
       "      <td>NaN</td>\n",
       "      <td>NaN</td>\n",
       "      <td>WSW</td>\n",
       "      <td>46.0</td>\n",
       "      <td>W</td>\n",
       "      <td>...</td>\n",
       "      <td>30.0</td>\n",
       "      <td>1007.6</td>\n",
       "      <td>1008.7</td>\n",
       "      <td>NaN</td>\n",
       "      <td>2.0</td>\n",
       "      <td>21.0</td>\n",
       "      <td>23.2</td>\n",
       "      <td>No</td>\n",
       "      <td>0.0</td>\n",
       "      <td>No</td>\n",
       "    </tr>\n",
       "    <tr>\n",
       "      <th>3</th>\n",
       "      <td>2008-12-04</td>\n",
       "      <td>Albury</td>\n",
       "      <td>9.2</td>\n",
       "      <td>28.0</td>\n",
       "      <td>0.0</td>\n",
       "      <td>NaN</td>\n",
       "      <td>NaN</td>\n",
       "      <td>NE</td>\n",
       "      <td>24.0</td>\n",
       "      <td>SE</td>\n",
       "      <td>...</td>\n",
       "      <td>16.0</td>\n",
       "      <td>1017.6</td>\n",
       "      <td>1012.8</td>\n",
       "      <td>NaN</td>\n",
       "      <td>NaN</td>\n",
       "      <td>18.1</td>\n",
       "      <td>26.5</td>\n",
       "      <td>No</td>\n",
       "      <td>1.0</td>\n",
       "      <td>No</td>\n",
       "    </tr>\n",
       "    <tr>\n",
       "      <th>4</th>\n",
       "      <td>2008-12-05</td>\n",
       "      <td>Albury</td>\n",
       "      <td>17.5</td>\n",
       "      <td>32.3</td>\n",
       "      <td>1.0</td>\n",
       "      <td>NaN</td>\n",
       "      <td>NaN</td>\n",
       "      <td>W</td>\n",
       "      <td>41.0</td>\n",
       "      <td>ENE</td>\n",
       "      <td>...</td>\n",
       "      <td>33.0</td>\n",
       "      <td>1010.8</td>\n",
       "      <td>1006.0</td>\n",
       "      <td>7.0</td>\n",
       "      <td>8.0</td>\n",
       "      <td>17.8</td>\n",
       "      <td>29.7</td>\n",
       "      <td>No</td>\n",
       "      <td>0.2</td>\n",
       "      <td>No</td>\n",
       "    </tr>\n",
       "  </tbody>\n",
       "</table>\n",
       "<p>5 rows × 24 columns</p>\n",
       "</div>"
      ],
      "text/plain": [
       "         Date Location  MinTemp  MaxTemp  Rainfall  Evaporation  Sunshine  \\\n",
       "0  2008-12-01   Albury     13.4     22.9       0.6          NaN       NaN   \n",
       "1  2008-12-02   Albury      7.4     25.1       0.0          NaN       NaN   \n",
       "2  2008-12-03   Albury     12.9     25.7       0.0          NaN       NaN   \n",
       "3  2008-12-04   Albury      9.2     28.0       0.0          NaN       NaN   \n",
       "4  2008-12-05   Albury     17.5     32.3       1.0          NaN       NaN   \n",
       "\n",
       "  WindGustDir  WindGustSpeed WindDir9am  ... Humidity3pm  Pressure9am  \\\n",
       "0           W           44.0          W  ...        22.0       1007.7   \n",
       "1         WNW           44.0        NNW  ...        25.0       1010.6   \n",
       "2         WSW           46.0          W  ...        30.0       1007.6   \n",
       "3          NE           24.0         SE  ...        16.0       1017.6   \n",
       "4           W           41.0        ENE  ...        33.0       1010.8   \n",
       "\n",
       "   Pressure3pm  Cloud9am  Cloud3pm  Temp9am  Temp3pm  RainToday  RISK_MM  \\\n",
       "0       1007.1       8.0       NaN     16.9     21.8         No      0.0   \n",
       "1       1007.8       NaN       NaN     17.2     24.3         No      0.0   \n",
       "2       1008.7       NaN       2.0     21.0     23.2         No      0.0   \n",
       "3       1012.8       NaN       NaN     18.1     26.5         No      1.0   \n",
       "4       1006.0       7.0       8.0     17.8     29.7         No      0.2   \n",
       "\n",
       "   RainTomorrow  \n",
       "0            No  \n",
       "1            No  \n",
       "2            No  \n",
       "3            No  \n",
       "4            No  \n",
       "\n",
       "[5 rows x 24 columns]"
      ]
     },
     "execution_count": 3,
     "metadata": {},
     "output_type": "execute_result"
    }
   ],
   "source": [
    "df.head()"
   ]
  },
  {
   "cell_type": "code",
   "execution_count": 4,
   "id": "8c48c737-86a7-4856-a231-4d3289ba2b6b",
   "metadata": {},
   "outputs": [
    {
     "name": "stdout",
     "output_type": "stream",
     "text": [
      "<class 'pandas.core.frame.DataFrame'>\n",
      "RangeIndex: 142193 entries, 0 to 142192\n",
      "Data columns (total 24 columns):\n",
      " #   Column         Non-Null Count   Dtype  \n",
      "---  ------         --------------   -----  \n",
      " 0   Date           142193 non-null  object \n",
      " 1   Location       142193 non-null  object \n",
      " 2   MinTemp        141556 non-null  float64\n",
      " 3   MaxTemp        141871 non-null  float64\n",
      " 4   Rainfall       140787 non-null  float64\n",
      " 5   Evaporation    81350 non-null   float64\n",
      " 6   Sunshine       74377 non-null   float64\n",
      " 7   WindGustDir    132863 non-null  object \n",
      " 8   WindGustSpeed  132923 non-null  float64\n",
      " 9   WindDir9am     132180 non-null  object \n",
      " 10  WindDir3pm     138415 non-null  object \n",
      " 11  WindSpeed9am   140845 non-null  float64\n",
      " 12  WindSpeed3pm   139563 non-null  float64\n",
      " 13  Humidity9am    140419 non-null  float64\n",
      " 14  Humidity3pm    138583 non-null  float64\n",
      " 15  Pressure9am    128179 non-null  float64\n",
      " 16  Pressure3pm    128212 non-null  float64\n",
      " 17  Cloud9am       88536 non-null   float64\n",
      " 18  Cloud3pm       85099 non-null   float64\n",
      " 19  Temp9am        141289 non-null  float64\n",
      " 20  Temp3pm        139467 non-null  float64\n",
      " 21  RainToday      140787 non-null  object \n",
      " 22  RISK_MM        142193 non-null  float64\n",
      " 23  RainTomorrow   142193 non-null  object \n",
      "dtypes: float64(17), object(7)\n",
      "memory usage: 26.0+ MB\n"
     ]
    }
   ],
   "source": [
    "df.info()"
   ]
  },
  {
   "cell_type": "code",
   "execution_count": 5,
   "id": "174d803f-b0b8-43ab-a7ee-a45db4eed058",
   "metadata": {},
   "outputs": [
    {
     "data": {
      "text/plain": [
       "(142193, 24)"
      ]
     },
     "execution_count": 5,
     "metadata": {},
     "output_type": "execute_result"
    }
   ],
   "source": [
    "df.shape"
   ]
  },
  {
   "cell_type": "code",
   "execution_count": 6,
   "id": "3455a5f8-b00c-4c5b-9985-b346a360346e",
   "metadata": {},
   "outputs": [
    {
     "data": {
      "text/plain": [
       "array(['No', 'Yes'], dtype=object)"
      ]
     },
     "execution_count": 6,
     "metadata": {},
     "output_type": "execute_result"
    }
   ],
   "source": [
    "df['RainTomorrow'].unique()"
   ]
  },
  {
   "cell_type": "code",
   "execution_count": 7,
   "id": "bbdbe977-f875-479c-bcb6-aa66579e0e34",
   "metadata": {},
   "outputs": [
    {
     "data": {
      "image/png": "[encoded data removed]",
      "text/plain": [
       "<Figure size 432x288 with 1 Axes>"
      ]
     },
     "metadata": {
      "needs_background": "light"
     },
     "output_type": "display_data"
    }
   ],
   "source": [
    "sns.countplot(data=df,x=df['RainTomorrow']);"
   ]
  },
  {
   "cell_type": "code",
   "execution_count": 8,
   "id": "7ce00715-1c45-42b1-9261-65de17db3a3e",
   "metadata": {},
   "outputs": [
    {
     "data": {
      "text/plain": [
       "(110316, 24)"
      ]
     },
     "execution_count": 8,
     "metadata": {},
     "output_type": "execute_result"
    }
   ],
   "source": [
    "no = df[df['RainTomorrow'] == 'No']\n",
    "no.shape"
   ]
  },
  {
   "cell_type": "code",
   "execution_count": 9,
   "id": "345cd0cd-d5df-4b67-9791-ce008324d20a",
   "metadata": {},
   "outputs": [
    {
     "data": {
      "text/plain": [
       "(31877, 24)"
      ]
     },
     "execution_count": 9,
     "metadata": {},
     "output_type": "execute_result"
    }
   ],
   "source": [
    "yes = df[df['RainTomorrow'] == 'Yes']\n",
    "yes.shape"
   ]
  },
  {
   "cell_type": "markdown",
   "id": "7312a3a1-10f4-4453-bb92-50249f07fa9b",
   "metadata": {},
   "source": [
    "# Preprocessing "
   ]
  },
  {
   "cell_type": "code",
   "execution_count": 10,
   "id": "bdb90323-1ecf-4ba8-9b88-c03e5b3483d6",
   "metadata": {},
   "outputs": [],
   "source": [
    "def percent_missing(df):\n",
    "    percent_nan = 100*df.isnull().sum() / len(df)\n",
    "    percent_nan = percent_nan[percent_nan > 0].sort_values()\n",
    "    return percent_nan"
   ]
  },
  {
   "cell_type": "code",
   "execution_count": 11,
   "id": "405afb1a-4dff-476f-b6ea-d40ec96bba0a",
   "metadata": {},
   "outputs": [],
   "source": [
    "percent_nan = percent_missing(df)"
   ]
  },
  {
   "cell_type": "code",
   "execution_count": 12,
   "id": "0faa57b6-9f9f-49a2-810f-0e03a65f8e60",
   "metadata": {},
   "outputs": [
    {
     "data": {
      "image/png": "[encoded data removed]",
      "text/plain": [
       "<Figure size 2400x800 with 1 Axes>"
      ]
     },
     "metadata": {
      "needs_background": "light"
     },
     "output_type": "display_data"
    }
   ],
   "source": [
    "percent_nan = percent_missing(df)\n",
    "\n",
    "plt.figure(figsize=(12,4),dpi=200)\n",
    "sns.barplot(x=percent_nan.index,y=percent_nan)\n",
    "plt.xticks(rotation=90);"
   ]
  },
  {
   "cell_type": "code",
   "execution_count": 13,
   "id": "f8b0aac3-de3f-41df-926b-3a62f94516b3",
   "metadata": {},
   "outputs": [],
   "source": [
    "df = df.drop('Date',axis=1)"
   ]
  },
  {
   "cell_type": "code",
   "execution_count": 14,
   "id": "83751d7f-15ab-4be9-9eaf-83139dab21dd",
   "metadata": {},
   "outputs": [],
   "source": [
    "df['Sunshine'] = df['Sunshine'].fillna(df['Sunshine'].mean())"
   ]
  },
  {
   "cell_type": "code",
   "execution_count": 15,
   "id": "1269870e-7b0f-4f27-9167-850877f02fec",
   "metadata": {},
   "outputs": [],
   "source": [
    "df['Evaporation'] = df['Evaporation'].fillna(df['Evaporation'].mean()) "
   ]
  },
  {
   "cell_type": "code",
   "execution_count": 16,
   "id": "70ce60e1-b762-4467-8515-2e204f9c13fa",
   "metadata": {},
   "outputs": [],
   "source": [
    "df['MaxTemp'] = df['MaxTemp'].fillna(df['MaxTemp'].mean())\n",
    "df['MinTemp'] = df['MinTemp'].fillna(df['MinTemp'].mean())\n",
    "\n",
    "df['Rainfall'] = df['Rainfall'].fillna(df['Rainfall'].mean())\n",
    "\n",
    "df['Humidity9am'] = df['Humidity9am'].fillna(df['Humidity9am'].mean())\n",
    "\n",
    "df['WindSpeed3pm'] = df['WindSpeed3pm'].fillna(df['WindSpeed3pm'].mean())\n",
    "df['WindSpeed9am'] = df['WindSpeed9am'].fillna(df['WindSpeed9am'].mean())\n",
    "\n",
    "df['Temp3pm'] = df['Temp3pm'].fillna(df['Temp3pm'].mean())\n",
    "df['Temp9am'] = df['Temp9am'].fillna(df['Temp9am'].mean())\n",
    "\n",
    "df['Humidity3pm'] = df['Humidity3pm'].fillna(df['Humidity3pm'].mean())\n",
    "\n",
    "df['WindGustSpeed'] = df['WindGustSpeed'].fillna(df['WindGustSpeed'].mean())\n",
    "\n",
    "df['Pressure3pm'] = df['Pressure3pm'].fillna(df['Pressure3pm'].mean())\n",
    "df['Pressure9am'] = df['Pressure9am'].fillna(df['Pressure9am'].mean())\n",
    "\n",
    "df['Cloud9am'] = df['Cloud9am'].fillna(df['Cloud9am'].mean())\n",
    "df['Cloud3pm'] = df['Cloud3pm'].fillna(df['Cloud3pm'].mean())"
   ]
  },
  {
   "cell_type": "code",
   "execution_count": 17,
   "id": "c4260337-94b3-4ad2-8038-3ad9e4b0f6d9",
   "metadata": {},
   "outputs": [],
   "source": [
    "df['WindGustDir'] = df['WindGustDir'].fillna(df['WindGustDir'].mode()[0])"
   ]
  },
  {
   "cell_type": "code",
   "execution_count": 18,
   "id": "09a46d8c-4ddd-41c0-8772-7af42fff77a5",
   "metadata": {},
   "outputs": [],
   "source": [
    "df['WindDir3pm'] = df['WindDir3pm'].fillna(df['WindDir3pm'].mode()[0])\n",
    "df['WindDir9am'] = df['WindDir9am'].fillna(df['WindDir9am'].mode()[0])"
   ]
  },
  {
   "cell_type": "code",
   "execution_count": 19,
   "id": "e15b58d5-8b1f-4e80-a058-ccc2f2402fd2",
   "metadata": {},
   "outputs": [],
   "source": [
    "df['RainToday'] = df['RainToday'].fillna('No')"
   ]
  },
  {
   "cell_type": "code",
   "execution_count": 20,
   "id": "f95af148-e781-48a7-aabb-ca857fccb1d7",
   "metadata": {},
   "outputs": [],
   "source": [
    "# function to add prefix in object columns\n",
    "\n",
    "def add_prefix(df,col_name,prefix):\n",
    "    return df[col_name].apply(lambda x: prefix + str(x))"
   ]
  },
  {
   "cell_type": "code",
   "execution_count": 21,
   "id": "c75f9581-a521-4d41-ab76-9b3fd0dffeea",
   "metadata": {},
   "outputs": [],
   "source": [
    "df['WindDir3pm'] = add_prefix(df,'WindDir3pm','3pm_')"
   ]
  },
  {
   "cell_type": "code",
   "execution_count": 22,
   "id": "9d44ba59-cb91-4bb1-ad84-c4108999e68f",
   "metadata": {},
   "outputs": [],
   "source": [
    "df['WindDir9am'] = add_prefix(df,'WindDir9am','9am_')"
   ]
  },
  {
   "cell_type": "code",
   "execution_count": 23,
   "id": "1ec53e02-e682-443f-901d-c8e8fc96c230",
   "metadata": {},
   "outputs": [
    {
     "data": {
      "text/plain": [
       "array(['3pm_WNW', '3pm_WSW', '3pm_E', '3pm_NW', '3pm_W', '3pm_SSE',\n",
       "       '3pm_ESE', '3pm_ENE', '3pm_NNW', '3pm_SSW', '3pm_SW', '3pm_SE',\n",
       "       '3pm_N', '3pm_S', '3pm_NNE', '3pm_NE'], dtype=object)"
      ]
     },
     "execution_count": 23,
     "metadata": {},
     "output_type": "execute_result"
    }
   ],
   "source": [
    "df['WindDir3pm'].unique()"
   ]
  },
  {
   "cell_type": "code",
   "execution_count": 24,
   "id": "9c3b62c0-aaf8-432d-9d67-32478337eaf9",
   "metadata": {},
   "outputs": [],
   "source": [
    "df['RainToday'] = df['RainToday'].replace(to_replace='No',value=0)\n",
    "df['RainToday'] = df['RainToday'].replace(to_replace='Yes',value=1)"
   ]
  },
  {
   "cell_type": "code",
   "execution_count": 25,
   "id": "a57bcf11-7d47-42cb-8d20-7297f43730b3",
   "metadata": {},
   "outputs": [],
   "source": [
    "df['RainTomorrow'] = df['RainTomorrow'].replace(to_replace='No',value=0)\n",
    "df['RainTomorrow'] = df['RainTomorrow'].replace(to_replace='Yes',value=1)"
   ]
  },
  {
   "cell_type": "code",
   "execution_count": 26,
   "id": "92f590ce-9841-4ae8-b886-6337a33d89fa",
   "metadata": {},
   "outputs": [
    {
     "data": {
      "text/plain": [
       "array([0, 1], dtype=int64)"
      ]
     },
     "execution_count": 26,
     "metadata": {},
     "output_type": "execute_result"
    }
   ],
   "source": [
    "df['RainTomorrow'].unique()"
   ]
  },
  {
   "cell_type": "code",
   "execution_count": 27,
   "id": "e42ec7a7-1e4a-4909-b7a7-1959fc5dfaf9",
   "metadata": {},
   "outputs": [],
   "source": [
    "df_numeric = df.select_dtypes(exclude='object')"
   ]
  },
  {
   "cell_type": "code",
   "execution_count": 28,
   "id": "a5b6695c-7051-4cc7-87ff-a0726d2fdcba",
   "metadata": {},
   "outputs": [],
   "source": [
    "df_object = df.select_dtypes(include='object')"
   ]
  },
  {
   "cell_type": "code",
   "execution_count": 29,
   "id": "e6a0eb2f-8514-43ff-b98d-aca529af3e52",
   "metadata": {},
   "outputs": [],
   "source": [
    "df_object_dummies = pd.get_dummies(data=df_object,drop_first=True)"
   ]
  },
  {
   "cell_type": "code",
   "execution_count": 30,
   "id": "b07e4d55-f31c-4fdb-a49f-138c0b964b66",
   "metadata": {},
   "outputs": [
    {
     "data": {
      "text/html": [
       "<div>\n",
       "<style scoped>\n",
       "    .dataframe tbody tr th:only-of-type {\n",
       "        vertical-align: middle;\n",
       "    }\n",
       "\n",
       "    .dataframe tbody tr th {\n",
       "        vertical-align: top;\n",
       "    }\n",
       "\n",
       "    .dataframe thead th {\n",
       "        text-align: right;\n",
       "    }\n",
       "</style>\n",
       "<table border=\"1\" class=\"dataframe\">\n",
       "  <thead>\n",
       "    <tr style=\"text-align: right;\">\n",
       "      <th></th>\n",
       "      <th>Location_Albany</th>\n",
       "      <th>Location_Albury</th>\n",
       "      <th>Location_AliceSprings</th>\n",
       "      <th>Location_BadgerysCreek</th>\n",
       "      <th>Location_Ballarat</th>\n",
       "      <th>Location_Bendigo</th>\n",
       "      <th>Location_Brisbane</th>\n",
       "      <th>Location_Cairns</th>\n",
       "      <th>Location_Canberra</th>\n",
       "      <th>Location_Cobar</th>\n",
       "      <th>...</th>\n",
       "      <th>WindDir3pm_3pm_NNW</th>\n",
       "      <th>WindDir3pm_3pm_NW</th>\n",
       "      <th>WindDir3pm_3pm_S</th>\n",
       "      <th>WindDir3pm_3pm_SE</th>\n",
       "      <th>WindDir3pm_3pm_SSE</th>\n",
       "      <th>WindDir3pm_3pm_SSW</th>\n",
       "      <th>WindDir3pm_3pm_SW</th>\n",
       "      <th>WindDir3pm_3pm_W</th>\n",
       "      <th>WindDir3pm_3pm_WNW</th>\n",
       "      <th>WindDir3pm_3pm_WSW</th>\n",
       "    </tr>\n",
       "  </thead>\n",
       "  <tbody>\n",
       "    <tr>\n",
       "      <th>0</th>\n",
       "      <td>0</td>\n",
       "      <td>1</td>\n",
       "      <td>0</td>\n",
       "      <td>0</td>\n",
       "      <td>0</td>\n",
       "      <td>0</td>\n",
       "      <td>0</td>\n",
       "      <td>0</td>\n",
       "      <td>0</td>\n",
       "      <td>0</td>\n",
       "      <td>...</td>\n",
       "      <td>0</td>\n",
       "      <td>0</td>\n",
       "      <td>0</td>\n",
       "      <td>0</td>\n",
       "      <td>0</td>\n",
       "      <td>0</td>\n",
       "      <td>0</td>\n",
       "      <td>0</td>\n",
       "      <td>1</td>\n",
       "      <td>0</td>\n",
       "    </tr>\n",
       "    <tr>\n",
       "      <th>1</th>\n",
       "      <td>0</td>\n",
       "      <td>1</td>\n",
       "      <td>0</td>\n",
       "      <td>0</td>\n",
       "      <td>0</td>\n",
       "      <td>0</td>\n",
       "      <td>0</td>\n",
       "      <td>0</td>\n",
       "      <td>0</td>\n",
       "      <td>0</td>\n",
       "      <td>...</td>\n",
       "      <td>0</td>\n",
       "      <td>0</td>\n",
       "      <td>0</td>\n",
       "      <td>0</td>\n",
       "      <td>0</td>\n",
       "      <td>0</td>\n",
       "      <td>0</td>\n",
       "      <td>0</td>\n",
       "      <td>0</td>\n",
       "      <td>1</td>\n",
       "    </tr>\n",
       "    <tr>\n",
       "      <th>2</th>\n",
       "      <td>0</td>\n",
       "      <td>1</td>\n",
       "      <td>0</td>\n",
       "      <td>0</td>\n",
       "      <td>0</td>\n",
       "      <td>0</td>\n",
       "      <td>0</td>\n",
       "      <td>0</td>\n",
       "      <td>0</td>\n",
       "      <td>0</td>\n",
       "      <td>...</td>\n",
       "      <td>0</td>\n",
       "      <td>0</td>\n",
       "      <td>0</td>\n",
       "      <td>0</td>\n",
       "      <td>0</td>\n",
       "      <td>0</td>\n",
       "      <td>0</td>\n",
       "      <td>0</td>\n",
       "      <td>0</td>\n",
       "      <td>1</td>\n",
       "    </tr>\n",
       "    <tr>\n",
       "      <th>3</th>\n",
       "      <td>0</td>\n",
       "      <td>1</td>\n",
       "      <td>0</td>\n",
       "      <td>0</td>\n",
       "      <td>0</td>\n",
       "      <td>0</td>\n",
       "      <td>0</td>\n",
       "      <td>0</td>\n",
       "      <td>0</td>\n",
       "      <td>0</td>\n",
       "      <td>...</td>\n",
       "      <td>0</td>\n",
       "      <td>0</td>\n",
       "      <td>0</td>\n",
       "      <td>0</td>\n",
       "      <td>0</td>\n",
       "      <td>0</td>\n",
       "      <td>0</td>\n",
       "      <td>0</td>\n",
       "      <td>0</td>\n",
       "      <td>0</td>\n",
       "    </tr>\n",
       "    <tr>\n",
       "      <th>4</th>\n",
       "      <td>0</td>\n",
       "      <td>1</td>\n",
       "      <td>0</td>\n",
       "      <td>0</td>\n",
       "      <td>0</td>\n",
       "      <td>0</td>\n",
       "      <td>0</td>\n",
       "      <td>0</td>\n",
       "      <td>0</td>\n",
       "      <td>0</td>\n",
       "      <td>...</td>\n",
       "      <td>0</td>\n",
       "      <td>1</td>\n",
       "      <td>0</td>\n",
       "      <td>0</td>\n",
       "      <td>0</td>\n",
       "      <td>0</td>\n",
       "      <td>0</td>\n",
       "      <td>0</td>\n",
       "      <td>0</td>\n",
       "      <td>0</td>\n",
       "    </tr>\n",
       "    <tr>\n",
       "      <th>...</th>\n",
       "      <td>...</td>\n",
       "      <td>...</td>\n",
       "      <td>...</td>\n",
       "      <td>...</td>\n",
       "      <td>...</td>\n",
       "      <td>...</td>\n",
       "      <td>...</td>\n",
       "      <td>...</td>\n",
       "      <td>...</td>\n",
       "      <td>...</td>\n",
       "      <td>...</td>\n",
       "      <td>...</td>\n",
       "      <td>...</td>\n",
       "      <td>...</td>\n",
       "      <td>...</td>\n",
       "      <td>...</td>\n",
       "      <td>...</td>\n",
       "      <td>...</td>\n",
       "      <td>...</td>\n",
       "      <td>...</td>\n",
       "      <td>...</td>\n",
       "    </tr>\n",
       "    <tr>\n",
       "      <th>142188</th>\n",
       "      <td>0</td>\n",
       "      <td>0</td>\n",
       "      <td>0</td>\n",
       "      <td>0</td>\n",
       "      <td>0</td>\n",
       "      <td>0</td>\n",
       "      <td>0</td>\n",
       "      <td>0</td>\n",
       "      <td>0</td>\n",
       "      <td>0</td>\n",
       "      <td>...</td>\n",
       "      <td>0</td>\n",
       "      <td>0</td>\n",
       "      <td>0</td>\n",
       "      <td>0</td>\n",
       "      <td>0</td>\n",
       "      <td>0</td>\n",
       "      <td>0</td>\n",
       "      <td>0</td>\n",
       "      <td>0</td>\n",
       "      <td>0</td>\n",
       "    </tr>\n",
       "    <tr>\n",
       "      <th>142189</th>\n",
       "      <td>0</td>\n",
       "      <td>0</td>\n",
       "      <td>0</td>\n",
       "      <td>0</td>\n",
       "      <td>0</td>\n",
       "      <td>0</td>\n",
       "      <td>0</td>\n",
       "      <td>0</td>\n",
       "      <td>0</td>\n",
       "      <td>0</td>\n",
       "      <td>...</td>\n",
       "      <td>0</td>\n",
       "      <td>0</td>\n",
       "      <td>0</td>\n",
       "      <td>0</td>\n",
       "      <td>0</td>\n",
       "      <td>0</td>\n",
       "      <td>0</td>\n",
       "      <td>0</td>\n",
       "      <td>0</td>\n",
       "      <td>0</td>\n",
       "    </tr>\n",
       "    <tr>\n",
       "      <th>142190</th>\n",
       "      <td>0</td>\n",
       "      <td>0</td>\n",
       "      <td>0</td>\n",
       "      <td>0</td>\n",
       "      <td>0</td>\n",
       "      <td>0</td>\n",
       "      <td>0</td>\n",
       "      <td>0</td>\n",
       "      <td>0</td>\n",
       "      <td>0</td>\n",
       "      <td>...</td>\n",
       "      <td>0</td>\n",
       "      <td>0</td>\n",
       "      <td>0</td>\n",
       "      <td>0</td>\n",
       "      <td>0</td>\n",
       "      <td>0</td>\n",
       "      <td>0</td>\n",
       "      <td>0</td>\n",
       "      <td>0</td>\n",
       "      <td>0</td>\n",
       "    </tr>\n",
       "    <tr>\n",
       "      <th>142191</th>\n",
       "      <td>0</td>\n",
       "      <td>0</td>\n",
       "      <td>0</td>\n",
       "      <td>0</td>\n",
       "      <td>0</td>\n",
       "      <td>0</td>\n",
       "      <td>0</td>\n",
       "      <td>0</td>\n",
       "      <td>0</td>\n",
       "      <td>0</td>\n",
       "      <td>...</td>\n",
       "      <td>0</td>\n",
       "      <td>0</td>\n",
       "      <td>0</td>\n",
       "      <td>0</td>\n",
       "      <td>0</td>\n",
       "      <td>0</td>\n",
       "      <td>0</td>\n",
       "      <td>0</td>\n",
       "      <td>1</td>\n",
       "      <td>0</td>\n",
       "    </tr>\n",
       "    <tr>\n",
       "      <th>142192</th>\n",
       "      <td>0</td>\n",
       "      <td>0</td>\n",
       "      <td>0</td>\n",
       "      <td>0</td>\n",
       "      <td>0</td>\n",
       "      <td>0</td>\n",
       "      <td>0</td>\n",
       "      <td>0</td>\n",
       "      <td>0</td>\n",
       "      <td>0</td>\n",
       "      <td>...</td>\n",
       "      <td>0</td>\n",
       "      <td>0</td>\n",
       "      <td>0</td>\n",
       "      <td>0</td>\n",
       "      <td>0</td>\n",
       "      <td>0</td>\n",
       "      <td>0</td>\n",
       "      <td>0</td>\n",
       "      <td>0</td>\n",
       "      <td>0</td>\n",
       "    </tr>\n",
       "  </tbody>\n",
       "</table>\n",
       "<p>142193 rows × 93 columns</p>\n",
       "</div>"
      ],
      "text/plain": [
       "        Location_Albany  Location_Albury  Location_AliceSprings  \\\n",
       "0                     0                1                      0   \n",
       "1                     0                1                      0   \n",
       "2                     0                1                      0   \n",
       "3                     0                1                      0   \n",
       "4                     0                1                      0   \n",
       "...                 ...              ...                    ...   \n",
       "142188                0                0                      0   \n",
       "142189                0                0                      0   \n",
       "142190                0                0                      0   \n",
       "142191                0                0                      0   \n",
       "142192                0                0                      0   \n",
       "\n",
       "        Location_BadgerysCreek  Location_Ballarat  Location_Bendigo  \\\n",
       "0                            0                  0                 0   \n",
       "1                            0                  0                 0   \n",
       "2                            0                  0                 0   \n",
       "3                            0                  0                 0   \n",
       "4                            0                  0                 0   \n",
       "...                        ...                ...               ...   \n",
       "142188                       0                  0                 0   \n",
       "142189                       0                  0                 0   \n",
       "142190                       0                  0                 0   \n",
       "142191                       0                  0                 0   \n",
       "142192                       0                  0                 0   \n",
       "\n",
       "        Location_Brisbane  Location_Cairns  Location_Canberra  Location_Cobar  \\\n",
       "0                       0                0                  0               0   \n",
       "1                       0                0                  0               0   \n",
       "2                       0                0                  0               0   \n",
       "3                       0                0                  0               0   \n",
       "4                       0                0                  0               0   \n",
       "...                   ...              ...                ...             ...   \n",
       "142188                  0                0                  0               0   \n",
       "142189                  0                0                  0               0   \n",
       "142190                  0                0                  0               0   \n",
       "142191                  0                0                  0               0   \n",
       "142192                  0                0                  0               0   \n",
       "\n",
       "        ...  WindDir3pm_3pm_NNW  WindDir3pm_3pm_NW  WindDir3pm_3pm_S  \\\n",
       "0       ...                   0                  0                 0   \n",
       "1       ...                   0                  0                 0   \n",
       "2       ...                   0                  0                 0   \n",
       "3       ...                   0                  0                 0   \n",
       "4       ...                   0                  1                 0   \n",
       "...     ...                 ...                ...               ...   \n",
       "142188  ...                   0                  0                 0   \n",
       "142189  ...                   0                  0                 0   \n",
       "142190  ...                   0                  0                 0   \n",
       "142191  ...                   0                  0                 0   \n",
       "142192  ...                   0                  0                 0   \n",
       "\n",
       "        WindDir3pm_3pm_SE  WindDir3pm_3pm_SSE  WindDir3pm_3pm_SSW  \\\n",
       "0                       0                   0                   0   \n",
       "1                       0                   0                   0   \n",
       "2                       0                   0                   0   \n",
       "3                       0                   0                   0   \n",
       "4                       0                   0                   0   \n",
       "...                   ...                 ...                 ...   \n",
       "142188                  0                   0                   0   \n",
       "142189                  0                   0                   0   \n",
       "142190                  0                   0                   0   \n",
       "142191                  0                   0                   0   \n",
       "142192                  0                   0                   0   \n",
       "\n",
       "        WindDir3pm_3pm_SW  WindDir3pm_3pm_W  WindDir3pm_3pm_WNW  \\\n",
       "0                       0                 0                   1   \n",
       "1                       0                 0                   0   \n",
       "2                       0                 0                   0   \n",
       "3                       0                 0                   0   \n",
       "4                       0                 0                   0   \n",
       "...                   ...               ...                 ...   \n",
       "142188                  0                 0                   0   \n",
       "142189                  0                 0                   0   \n",
       "142190                  0                 0                   0   \n",
       "142191                  0                 0                   1   \n",
       "142192                  0                 0                   0   \n",
       "\n",
       "        WindDir3pm_3pm_WSW  \n",
       "0                        0  \n",
       "1                        1  \n",
       "2                        1  \n",
       "3                        0  \n",
       "4                        0  \n",
       "...                    ...  \n",
       "142188                   0  \n",
       "142189                   0  \n",
       "142190                   0  \n",
       "142191                   0  \n",
       "142192                   0  \n",
       "\n",
       "[142193 rows x 93 columns]"
      ]
     },
     "execution_count": 30,
     "metadata": {},
     "output_type": "execute_result"
    }
   ],
   "source": [
    "df_object_dummies"
   ]
  },
  {
   "cell_type": "code",
   "execution_count": 31,
   "id": "ed6279e0-ee06-47f2-9509-42fb6913314a",
   "metadata": {},
   "outputs": [],
   "source": [
    "final_df = pd.concat([df_numeric,df_object_dummies],axis=1,)"
   ]
  },
  {
   "cell_type": "code",
   "execution_count": 41,
   "id": "d7a85edf-59ee-4a2f-b455-193f396af257",
   "metadata": {},
   "outputs": [
    {
     "data": {
      "text/plain": [
       "<AxesSubplot:xlabel='RainTomorrow', ylabel='count'>"
      ]
     },
     "execution_count": 41,
     "metadata": {},
     "output_type": "execute_result"
    },
    {
     "data": {
      "image/png": "[encoded data removed]",
      "text/plain": [
       "<Figure size 432x288 with 1 Axes>"
      ]
     },
     "metadata": {
      "needs_background": "light"
     },
     "output_type": "display_data"
    }
   ],
   "source": [
    "sns.countplot(data=df,x=df['RainTomorrow'])"
   ]
  },
  {
   "cell_type": "code",
   "execution_count": null,
   "id": "8c2caf56-293b-40a0-a566-935054560fe0",
   "metadata": {},
   "outputs": [],
   "source": []
  }
 ],
 "metadata": {
  "kernelspec": {
   "display_name": "Python 3",
   "language": "python",
   "name": "python3"
  },
  "language_info": {
   "codemirror_mode": {
    "name": "ipython",
    "version": 3
   },
   "file_extension": ".py",
   "mimetype": "text/x-python",
   "name": "python",
   "nbconvert_exporter": "python",
   "pygments_lexer": "ipython3",
   "version": "3.8.8"
  }
 },
 "nbformat": 4,
 "nbformat_minor": 5
}
