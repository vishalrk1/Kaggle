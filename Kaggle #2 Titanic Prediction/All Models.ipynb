{
 "cells": [
  {
   "cell_type": "code",
   "execution_count": 71,
   "id": "be2065c8-6d4e-4654-9258-632619581d8c",
   "metadata": {},
   "outputs": [],
   "source": [
    "import numpy as np\n",
    "import pandas as pd\n",
    "import matplotlib.pyplot as plt\n",
    "import seaborn as sns\n",
    "\n",
    "from sklearn.model_selection import train_test_split\n",
    "from sklearn.preprocessing import StandardScaler\n",
    "from sklearn.metrics import classification_report,accuracy_score\n",
    "from sklearn.model_selection import GridSearchCV"
   ]
  },
  {
   "cell_type": "code",
   "execution_count": 11,
   "id": "2764b669-5cf5-41a0-86b9-a9e6b19df2c5",
   "metadata": {},
   "outputs": [],
   "source": [
    "df = pd.read_csv(\"Final_Train_Data.csv\")"
   ]
  },
  {
   "cell_type": "code",
   "execution_count": 12,
   "id": "dd40faf5-8fed-4371-b35b-37b770ebd0ae",
   "metadata": {},
   "outputs": [],
   "source": [
    "final_test_df = pd.read_csv(\"Final_Test_Data.csv\")"
   ]
  },
  {
   "cell_type": "code",
   "execution_count": 56,
   "id": "f468cc95-f65e-473b-af89-7881d2d56b18",
   "metadata": {},
   "outputs": [],
   "source": [
    "sample_submition = pd.read_csv(\"gender_submission.csv\")"
   ]
  },
  {
   "cell_type": "code",
   "execution_count": 24,
   "id": "00368149-f314-4b02-b00c-e15017ffcf47",
   "metadata": {},
   "outputs": [
    {
     "data": {
      "text/html": [
       "<div>\n",
       "<style scoped>\n",
       "    .dataframe tbody tr th:only-of-type {\n",
       "        vertical-align: middle;\n",
       "    }\n",
       "\n",
       "    .dataframe tbody tr th {\n",
       "        vertical-align: top;\n",
       "    }\n",
       "\n",
       "    .dataframe thead th {\n",
       "        text-align: right;\n",
       "    }\n",
       "</style>\n",
       "<table border=\"1\" class=\"dataframe\">\n",
       "  <thead>\n",
       "    <tr style=\"text-align: right;\">\n",
       "      <th></th>\n",
       "      <th>PassengerId</th>\n",
       "      <th>Survived</th>\n",
       "      <th>Pclass</th>\n",
       "      <th>Age</th>\n",
       "      <th>SibSp</th>\n",
       "      <th>Parch</th>\n",
       "      <th>Fare</th>\n",
       "      <th>Sex_male</th>\n",
       "      <th>Embarked_Q</th>\n",
       "      <th>Embarked_S</th>\n",
       "    </tr>\n",
       "  </thead>\n",
       "  <tbody>\n",
       "    <tr>\n",
       "      <th>0</th>\n",
       "      <td>1</td>\n",
       "      <td>0.0</td>\n",
       "      <td>3</td>\n",
       "      <td>22.0</td>\n",
       "      <td>1</td>\n",
       "      <td>0</td>\n",
       "      <td>7.2500</td>\n",
       "      <td>1</td>\n",
       "      <td>0</td>\n",
       "      <td>1</td>\n",
       "    </tr>\n",
       "    <tr>\n",
       "      <th>1</th>\n",
       "      <td>2</td>\n",
       "      <td>1.0</td>\n",
       "      <td>1</td>\n",
       "      <td>38.0</td>\n",
       "      <td>1</td>\n",
       "      <td>0</td>\n",
       "      <td>71.2833</td>\n",
       "      <td>0</td>\n",
       "      <td>0</td>\n",
       "      <td>0</td>\n",
       "    </tr>\n",
       "    <tr>\n",
       "      <th>2</th>\n",
       "      <td>3</td>\n",
       "      <td>1.0</td>\n",
       "      <td>3</td>\n",
       "      <td>26.0</td>\n",
       "      <td>0</td>\n",
       "      <td>0</td>\n",
       "      <td>7.9250</td>\n",
       "      <td>0</td>\n",
       "      <td>0</td>\n",
       "      <td>1</td>\n",
       "    </tr>\n",
       "    <tr>\n",
       "      <th>3</th>\n",
       "      <td>4</td>\n",
       "      <td>1.0</td>\n",
       "      <td>1</td>\n",
       "      <td>35.0</td>\n",
       "      <td>1</td>\n",
       "      <td>0</td>\n",
       "      <td>53.1000</td>\n",
       "      <td>0</td>\n",
       "      <td>0</td>\n",
       "      <td>1</td>\n",
       "    </tr>\n",
       "    <tr>\n",
       "      <th>4</th>\n",
       "      <td>5</td>\n",
       "      <td>0.0</td>\n",
       "      <td>3</td>\n",
       "      <td>35.0</td>\n",
       "      <td>0</td>\n",
       "      <td>0</td>\n",
       "      <td>8.0500</td>\n",
       "      <td>1</td>\n",
       "      <td>0</td>\n",
       "      <td>1</td>\n",
       "    </tr>\n",
       "  </tbody>\n",
       "</table>\n",
       "</div>"
      ],
      "text/plain": [
       "   PassengerId  Survived  Pclass   Age  SibSp  Parch     Fare  Sex_male  \\\n",
       "0            1       0.0       3  22.0      1      0   7.2500         1   \n",
       "1            2       1.0       1  38.0      1      0  71.2833         0   \n",
       "2            3       1.0       3  26.0      0      0   7.9250         0   \n",
       "3            4       1.0       1  35.0      1      0  53.1000         0   \n",
       "4            5       0.0       3  35.0      0      0   8.0500         1   \n",
       "\n",
       "   Embarked_Q  Embarked_S  \n",
       "0           0           1  \n",
       "1           0           0  \n",
       "2           0           1  \n",
       "3           0           1  \n",
       "4           0           1  "
      ]
     },
     "execution_count": 24,
     "metadata": {},
     "output_type": "execute_result"
    }
   ],
   "source": [
    "df.head()"
   ]
  },
  {
   "cell_type": "code",
   "execution_count": 15,
   "id": "32f65a84-f76f-470a-a55f-952d2a284ff1",
   "metadata": {},
   "outputs": [],
   "source": [
    "X = df.drop(['Survived','PassengerId'],axis=1)\n",
    "final_test_df = final_test_df.drop('PassengerId',axis=1)"
   ]
  },
  {
   "cell_type": "code",
   "execution_count": 17,
   "id": "c4b58bc1-9f90-4b09-b97d-401abd6f1adb",
   "metadata": {},
   "outputs": [],
   "source": [
    "y = df['Survived']"
   ]
  },
  {
   "cell_type": "code",
   "execution_count": 18,
   "id": "1f5df956-39d2-40ca-9681-fca838019604",
   "metadata": {},
   "outputs": [],
   "source": [
    "X_train, X_test, y_train, y_test = train_test_split(X, y, test_size=0.15, random_state=101)"
   ]
  },
  {
   "cell_type": "code",
   "execution_count": 30,
   "id": "786ac98f-f657-40c9-b3c4-fa48478c2ecd",
   "metadata": {},
   "outputs": [],
   "source": [
    "scaler = StandardScaler()"
   ]
  },
  {
   "cell_type": "code",
   "execution_count": 31,
   "id": "b133f0c8-3932-403c-8732-5e90a186d966",
   "metadata": {},
   "outputs": [],
   "source": [
    "scaled_X_train = scaler.fit_transform(X_train)"
   ]
  },
  {
   "cell_type": "code",
   "execution_count": 32,
   "id": "db7a2bf4-5fa4-48b2-ae93-7211b53adc53",
   "metadata": {},
   "outputs": [],
   "source": [
    "scaled_X_test = scaler.transform(X_test)"
   ]
  },
  {
   "cell_type": "code",
   "execution_count": 62,
   "id": "6c4dc365-3bf5-46ed-9d62-8245ba6821e6",
   "metadata": {},
   "outputs": [],
   "source": [
    "scaled_final_test_df = scaler.transform(final_test_df)"
   ]
  },
  {
   "cell_type": "code",
   "execution_count": null,
   "id": "15c12ff8-bdf8-4543-8485-2a3dd2b260eb",
   "metadata": {},
   "outputs": [],
   "source": []
  },
  {
   "cell_type": "code",
   "execution_count": 46,
   "id": "042da9e6-789a-4272-a2a8-e7407df4b4d7",
   "metadata": {},
   "outputs": [],
   "source": [
    "def results(model):\n",
    "    y_predictions = model.predict(scaled_X_test)\n",
    "    print(accuracy_score(y_test,y_predictions))\n",
    "    print(classification_report(y_test,y_predictions))"
   ]
  },
  {
   "cell_type": "code",
   "execution_count": 100,
   "id": "e59c4842-8106-49c3-97fa-bb20c419f48b",
   "metadata": {},
   "outputs": [],
   "source": [
    "def final_predictions(model):\n",
    "    final_y_prediction = model.predict(final_test_df).astype(int)\n",
    "    final_y_prediction = pd.DataFrame(data=final_y_prediction,columns=['Survived'])\n",
    "    final_submition = pd.concat([sample_submition['PassengerId'],final_y_prediction],axis=1,)\n",
    "    final_submition.to_csv('Final_Submition.csv',index=False)"
   ]
  },
  {
   "cell_type": "code",
   "execution_count": null,
   "id": "31583e9e-f578-4057-9835-b08495953e65",
   "metadata": {},
   "outputs": [],
   "source": []
  },
  {
   "cell_type": "code",
   "execution_count": 20,
   "id": "d53ea720-dbe4-4ee6-8f01-428e19e519e4",
   "metadata": {},
   "outputs": [],
   "source": [
    "# AdBoost Model Predictions"
   ]
  },
  {
   "cell_type": "code",
   "execution_count": 91,
   "id": "61495bda-e163-4abe-9886-942e8fd87c7d",
   "metadata": {},
   "outputs": [],
   "source": [
    "from sklearn.ensemble import AdaBoostClassifier"
   ]
  },
  {
   "cell_type": "code",
   "execution_count": 92,
   "id": "c8663cdb-b976-4e8f-b58c-d86dfe3577e1",
   "metadata": {},
   "outputs": [],
   "source": [
    "error = []\n",
    "\n",
    "for i in range(1,100):\n",
    "    model = AdaBoostClassifier(n_estimators=i)\n",
    "    model.fit(scaled_X_train,y_train)\n",
    "    y_prediction = model.predict(scaled_X_test)\n",
    "    \n",
    "    err = 1 - accuracy_score(y_test,y_prediction)\n",
    "    error.append(err)"
   ]
  },
  {
   "cell_type": "code",
   "execution_count": 93,
   "id": "d7fb8542-95cd-4433-95a8-9651775c7b0c",
   "metadata": {},
   "outputs": [
    {
     "data": {
      "text/plain": [
       "[<matplotlib.lines.Line2D at 0x1dd1dfc41c0>]"
      ]
     },
     "execution_count": 93,
     "metadata": {},
     "output_type": "execute_result"
    },
    {
     "data": {
      "image/png": "[encoded data removed]",
      "text/plain": [
       "<Figure size 432x288 with 1 Axes>"
      ]
     },
     "metadata": {
      "needs_background": "light"
     },
     "output_type": "display_data"
    }
   ],
   "source": [
    "plt.plot(range(1,100),error)"
   ]
  },
  {
   "cell_type": "code",
   "execution_count": 94,
   "id": "619a634e-d68a-4941-ba45-4e6de8a5751a",
   "metadata": {},
   "outputs": [],
   "source": [
    "ad_model = AdaBoostClassifier(n_estimators=12)"
   ]
  },
  {
   "cell_type": "code",
   "execution_count": 95,
   "id": "453b4032-0735-4e21-9202-72876b3adcbf",
   "metadata": {},
   "outputs": [
    {
     "data": {
      "text/plain": [
       "AdaBoostClassifier(n_estimators=12)"
      ]
     },
     "execution_count": 95,
     "metadata": {},
     "output_type": "execute_result"
    }
   ],
   "source": [
    "ad_model.fit(scaled_X_train,y_train)"
   ]
  },
  {
   "cell_type": "code",
   "execution_count": 96,
   "id": "5dd5b5b6-e4e2-42ee-b4cf-54a92c0f7e9a",
   "metadata": {},
   "outputs": [
    {
     "name": "stdout",
     "output_type": "stream",
     "text": [
      "0.7910447761194029\n",
      "              precision    recall  f1-score   support\n",
      "\n",
      "         0.0       0.74      0.91      0.82        70\n",
      "         1.0       0.88      0.66      0.75        64\n",
      "\n",
      "    accuracy                           0.79       134\n",
      "   macro avg       0.81      0.79      0.79       134\n",
      "weighted avg       0.81      0.79      0.79       134\n",
      "\n"
     ]
    }
   ],
   "source": [
    "results(ad_model)"
   ]
  },
  {
   "cell_type": "code",
   "execution_count": 101,
   "id": "107e61ea-e1c1-4d8a-9057-a0f4219ffc92",
   "metadata": {},
   "outputs": [],
   "source": [
    "final_predictions(ad_model)"
   ]
  },
  {
   "cell_type": "code",
   "execution_count": null,
   "id": "e8a630e8-8443-4f18-a5f6-4c06f79b92d9",
   "metadata": {},
   "outputs": [],
   "source": []
  },
  {
   "cell_type": "code",
   "execution_count": 68,
   "id": "55eb2bc4-367b-4b80-a7d1-99676ee18978",
   "metadata": {},
   "outputs": [],
   "source": [
    "# Random Forest MOdel Predictions"
   ]
  },
  {
   "cell_type": "code",
   "execution_count": 69,
   "id": "cb464e97-e402-44c9-a0e3-b5d2095ea643",
   "metadata": {},
   "outputs": [],
   "source": [
    "from sklearn.ensemble import RandomForestClassifier"
   ]
  },
  {
   "cell_type": "code",
   "execution_count": 70,
   "id": "c1f4b680-6dd6-4018-b378-fece492c3675",
   "metadata": {},
   "outputs": [],
   "source": [
    "rf_model = RandomForestClassifier()"
   ]
  },
  {
   "cell_type": "code",
   "execution_count": 72,
   "id": "0f8f3a95-a052-44b9-bcbd-51f581afa8e2",
   "metadata": {},
   "outputs": [],
   "source": [
    "grid_param = {\n",
    "    'n_estimators':[50,100,150,200,300],\n",
    "    'criterion': ['gini','entropy'],\n",
    "    'bootstrap': [True,False], \n",
    "}"
   ]
  },
  {
   "cell_type": "code",
   "execution_count": 73,
   "id": "7a68ba59-e857-46bd-beb0-a7c68f778692",
   "metadata": {},
   "outputs": [],
   "source": [
    "rf_grid_model = GridSearchCV(estimator=rf_model,param_grid=grid_param)"
   ]
  },
  {
   "cell_type": "code",
   "execution_count": 74,
   "id": "fbbc59f1-dbbb-4aca-942f-8bc762f13912",
   "metadata": {},
   "outputs": [
    {
     "data": {
      "text/plain": [
       "GridSearchCV(estimator=RandomForestClassifier(),\n",
       "             param_grid={'bootstrap': [True, False],\n",
       "                         'criterion': ['gini', 'entropy'],\n",
       "                         'n_estimators': [50, 100, 150, 200, 300]})"
      ]
     },
     "execution_count": 74,
     "metadata": {},
     "output_type": "execute_result"
    }
   ],
   "source": [
    "rf_grid_model.fit(scaled_X_train,y_train)"
   ]
  },
  {
   "cell_type": "code",
   "execution_count": 75,
   "id": "f24dd447-8323-4243-9145-ccf5d8e695ad",
   "metadata": {},
   "outputs": [
    {
     "data": {
      "text/plain": [
       "{'bootstrap': True, 'criterion': 'gini', 'n_estimators': 50}"
      ]
     },
     "execution_count": 75,
     "metadata": {},
     "output_type": "execute_result"
    }
   ],
   "source": [
    "rf_grid_model.best_params_"
   ]
  },
  {
   "cell_type": "code",
   "execution_count": 76,
   "id": "5005579d-a893-45be-9b6d-89fe84745e34",
   "metadata": {},
   "outputs": [
    {
     "name": "stdout",
     "output_type": "stream",
     "text": [
      "0.7835820895522388\n",
      "              precision    recall  f1-score   support\n",
      "\n",
      "         0.0       0.75      0.87      0.81        70\n",
      "         1.0       0.83      0.69      0.75        64\n",
      "\n",
      "    accuracy                           0.78       134\n",
      "   macro avg       0.79      0.78      0.78       134\n",
      "weighted avg       0.79      0.78      0.78       134\n",
      "\n"
     ]
    }
   ],
   "source": [
    "results(rf_grid_model)"
   ]
  },
  {
   "cell_type": "code",
   "execution_count": null,
   "id": "17237ba2-2b9e-4264-b351-8c6743b8491c",
   "metadata": {},
   "outputs": [],
   "source": []
  },
  {
   "cell_type": "code",
   "execution_count": null,
   "id": "64ab72e0-0d1f-482e-8703-d6ae5b566e79",
   "metadata": {},
   "outputs": [],
   "source": []
  },
  {
   "cell_type": "code",
   "execution_count": 77,
   "id": "03782bc8-1336-49d3-9ffd-7562ee06c9da",
   "metadata": {},
   "outputs": [],
   "source": [
    "# GradientBoost Model Predictions"
   ]
  },
  {
   "cell_type": "code",
   "execution_count": 78,
   "id": "03b8d7cf-1412-43f9-8adb-a2a659baac98",
   "metadata": {},
   "outputs": [],
   "source": [
    "from sklearn.ensemble import GradientBoostingClassifier"
   ]
  },
  {
   "cell_type": "code",
   "execution_count": 79,
   "id": "1f073f6b-0b6d-4039-8388-0ffcd60bf243",
   "metadata": {},
   "outputs": [],
   "source": [
    "gb_model = GradientBoostingClassifier()"
   ]
  },
  {
   "cell_type": "code",
   "execution_count": 80,
   "id": "8a187506-72c1-4d1d-816c-5bb5854537b8",
   "metadata": {},
   "outputs": [],
   "source": [
    "grid_param = {\n",
    "    'n_estimators':[50,100,150,200],\n",
    "    'max_depth':[3,4,5,6],\n",
    "    'learning_rate':[0.1,0.05,0.2],\n",
    "    'loss':['deviance', 'exponential'],\n",
    "}"
   ]
  },
  {
   "cell_type": "code",
   "execution_count": 81,
   "id": "968bec60-a0a2-45f4-8d1b-2b4cb604543e",
   "metadata": {},
   "outputs": [],
   "source": [
    "gb_grid_model = GridSearchCV(estimator=gb_model,param_grid=grid_param)"
   ]
  },
  {
   "cell_type": "code",
   "execution_count": 82,
   "id": "580c1c92-5878-42e0-a8cb-9b5311385431",
   "metadata": {},
   "outputs": [
    {
     "data": {
      "text/plain": [
       "GridSearchCV(estimator=GradientBoostingClassifier(),\n",
       "             param_grid={'learning_rate': [0.1, 0.05, 0.2],\n",
       "                         'loss': ['deviance', 'exponential'],\n",
       "                         'max_depth': [3, 4, 5, 6],\n",
       "                         'n_estimators': [50, 100, 150, 200]})"
      ]
     },
     "execution_count": 82,
     "metadata": {},
     "output_type": "execute_result"
    }
   ],
   "source": [
    "gb_grid_model.fit(scaled_X_train,y_train)"
   ]
  },
  {
   "cell_type": "code",
   "execution_count": 83,
   "id": "73290c07-8bdf-4ea1-be22-a3c39f641d0b",
   "metadata": {},
   "outputs": [
    {
     "name": "stdout",
     "output_type": "stream",
     "text": [
      "0.7985074626865671\n",
      "              precision    recall  f1-score   support\n",
      "\n",
      "         0.0       0.77      0.89      0.82        70\n",
      "         1.0       0.85      0.70      0.77        64\n",
      "\n",
      "    accuracy                           0.80       134\n",
      "   macro avg       0.81      0.79      0.80       134\n",
      "weighted avg       0.81      0.80      0.80       134\n",
      "\n"
     ]
    }
   ],
   "source": [
    "results(gb_grid_model)"
   ]
  },
  {
   "cell_type": "code",
   "execution_count": 88,
   "id": "33e22300-e20d-4d22-a975-6802ccb6f449",
   "metadata": {},
   "outputs": [],
   "source": [
    "final_predictions(gb_grid_model)"
   ]
  },
  {
   "cell_type": "code",
   "execution_count": null,
   "id": "4bb2ad49-86b7-4520-8eac-97757ca68bbb",
   "metadata": {},
   "outputs": [],
   "source": []
  },
  {
   "cell_type": "code",
   "execution_count": null,
   "id": "661d803e-6d9c-4867-a97a-c987c0777cf3",
   "metadata": {},
   "outputs": [],
   "source": []
  },
  {
   "cell_type": "code",
   "execution_count": null,
   "id": "c4d5e046-7b46-4a0c-86fb-c69b48abe4e9",
   "metadata": {},
   "outputs": [],
   "source": []
  },
  {
   "cell_type": "code",
   "execution_count": 102,
   "id": "bd09fdd3-b475-4aa8-afd2-f661c77e1e4a",
   "metadata": {},
   "outputs": [],
   "source": [
    "final_submittion = pd.read_csv(\"Final_Submition.csv\")"
   ]
  },
  {
   "cell_type": "code",
   "execution_count": 104,
   "id": "f89c3b08-3923-4569-ae5e-7bb64675f789",
   "metadata": {},
   "outputs": [
    {
     "data": {
      "text/plain": [
       "0    418\n",
       "Name: Survived, dtype: int64"
      ]
     },
     "execution_count": 104,
     "metadata": {},
     "output_type": "execute_result"
    }
   ],
   "source": [
    "final_submittion['Survived'].value_counts()"
   ]
  },
  {
   "cell_type": "code",
   "execution_count": null,
   "id": "f5739a3b-bec8-4f56-bf45-b8d044258d41",
   "metadata": {},
   "outputs": [],
   "source": []
  }
 ],
 "metadata": {
  "kernelspec": {
   "display_name": "Python 3",
   "language": "python",
   "name": "python3"
  },
  "language_info": {
   "codemirror_mode": {
    "name": "ipython",
    "version": 3
   },
   "file_extension": ".py",
   "mimetype": "text/x-python",
   "name": "python",
   "nbconvert_exporter": "python",
   "pygments_lexer": "ipython3",
   "version": "3.8.8"
  }
 },
 "nbformat": 4,
 "nbformat_minor": 5
}
