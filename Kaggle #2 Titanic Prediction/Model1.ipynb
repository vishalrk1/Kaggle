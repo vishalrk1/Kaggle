{
 "cells": [
  {
   "cell_type": "code",
   "execution_count": 1,
   "id": "de6fd58a-dc97-4ae9-9a98-4b44a556d602",
   "metadata": {},
   "outputs": [],
   "source": [
    "import numpy as np\n",
    "import pandas as pd\n",
    "import matplotlib.pyplot as plt\n",
    "import seaborn as sns\n",
    "\n",
    "from sklearn.model_selection import train_test_split\n",
    "from sklearn.metrics import classification_report,accuracy_score,confusion_matrix"
   ]
  },
  {
   "cell_type": "code",
   "execution_count": 2,
   "id": "0e3938f3-5421-478b-8516-1d6a878d39c7",
   "metadata": {},
   "outputs": [],
   "source": [
    "df = pd.read_csv(\"Final_Train_Data.csv\")"
   ]
  },
  {
   "cell_type": "code",
   "execution_count": 3,
   "id": "ef76ac9e-ca73-4f6c-9ded-e0e8be1482ed",
   "metadata": {},
   "outputs": [
    {
     "data": {
      "text/plain": [
       "(891, 11)"
      ]
     },
     "execution_count": 3,
     "metadata": {},
     "output_type": "execute_result"
    }
   ],
   "source": [
    "df.shape"
   ]
  },
  {
   "cell_type": "code",
   "execution_count": 4,
   "id": "a0b455e3-88ea-4070-a04b-0fdb4c36fb9c",
   "metadata": {},
   "outputs": [],
   "source": [
    "X = df.drop('Survived',axis=1)"
   ]
  },
  {
   "cell_type": "code",
   "execution_count": 5,
   "id": "6a822766-a4da-4620-a5a4-f24fb1eff785",
   "metadata": {},
   "outputs": [],
   "source": [
    "y = df['Survived']"
   ]
  },
  {
   "cell_type": "code",
   "execution_count": 6,
   "id": "bd172d94-f770-4898-8309-e8520fc3260f",
   "metadata": {},
   "outputs": [],
   "source": [
    "X_train, X_test, y_train, y_test = train_test_split(X, y, test_size=0.1, random_state=101)"
   ]
  },
  {
   "cell_type": "code",
   "execution_count": 39,
   "id": "ea437f09-78c6-4a1f-b403-bcb2e8a331ad",
   "metadata": {},
   "outputs": [],
   "source": [
    "from sklearn.preprocessing import StandardScaler"
   ]
  },
  {
   "cell_type": "code",
   "execution_count": 40,
   "id": "aeac514b-2e01-49d1-bf7f-ecef1a263503",
   "metadata": {},
   "outputs": [],
   "source": [
    "scaler = StandardScaler()"
   ]
  },
  {
   "cell_type": "code",
   "execution_count": 41,
   "id": "74e03e2c-84df-414d-81f4-32d4734b0419",
   "metadata": {},
   "outputs": [],
   "source": [
    "Scaled_X_train = scaler.fit_transform(X_train)"
   ]
  },
  {
   "cell_type": "code",
   "execution_count": 42,
   "id": "0d3386b7-65b7-40dc-ad7d-9e559c7b0f5e",
   "metadata": {},
   "outputs": [],
   "source": [
    "Scaled_X_test = scaler.transform(X_test)"
   ]
  },
  {
   "cell_type": "code",
   "execution_count": 11,
   "id": "1fea7a5e-ec62-4942-aa2f-7ab969f3c528",
   "metadata": {},
   "outputs": [],
   "source": [
    "from sklearn.ensemble import AdaBoostClassifier"
   ]
  },
  {
   "cell_type": "code",
   "execution_count": 63,
   "id": "1ec3749f-e6db-41fd-98d5-166e13d09b4f",
   "metadata": {},
   "outputs": [],
   "source": [
    "error = []\n",
    "\n",
    "for i in range(1,12):\n",
    "    model = AdaBoostClassifier(n_estimators=i)\n",
    "    model.fit(Scaled_X_train,y_train)\n",
    "    y_prediction = model.predict(Scaled_X_test)\n",
    "    \n",
    "    err = 1 - accuracy_score(y_test,y_prediction)\n",
    "    error.append(err)"
   ]
  },
  {
   "cell_type": "code",
   "execution_count": 64,
   "id": "0320505b-da1b-4543-8ee8-690cecd074a8",
   "metadata": {},
   "outputs": [
    {
     "data": {
      "text/plain": [
       "[<matplotlib.lines.Line2D at 0x261f9a8ed90>]"
      ]
     },
     "execution_count": 64,
     "metadata": {},
     "output_type": "execute_result"
    },
    {
     "data": {
      "image/png": "[encoded data removed]",
      "text/plain": [
       "<Figure size 432x288 with 1 Axes>"
      ]
     },
     "metadata": {
      "needs_background": "light"
     },
     "output_type": "display_data"
    }
   ],
   "source": [
    "# plt.figure(figsize=(10,4),dpi=200)\n",
    "plt.plot(range(1,12),error)"
   ]
  },
  {
   "cell_type": "code",
   "execution_count": 65,
   "id": "cf7dd604-d801-406f-8ed7-022e64c88b93",
   "metadata": {},
   "outputs": [],
   "source": [
    "final_model = AdaBoostClassifier(n_estimators=6)\n",
    "final_model.fit(Scaled_X_train,y_train)\n",
    "y_prediction = final_model.predict(Scaled_X_test)"
   ]
  },
  {
   "cell_type": "code",
   "execution_count": 66,
   "id": "742d6ac7-7ab2-462d-b0d0-c01620425e5d",
   "metadata": {},
   "outputs": [
    {
     "name": "stdout",
     "output_type": "stream",
     "text": [
      "              precision    recall  f1-score   support\n",
      "\n",
      "         0.0       0.79      0.88      0.83        51\n",
      "         1.0       0.82      0.69      0.75        39\n",
      "\n",
      "    accuracy                           0.80        90\n",
      "   macro avg       0.80      0.79      0.79        90\n",
      "weighted avg       0.80      0.80      0.80        90\n",
      "\n"
     ]
    }
   ],
   "source": [
    "print(classification_report(y_test,y_prediction))"
   ]
  },
  {
   "cell_type": "code",
   "execution_count": 67,
   "id": "ba33939c-f295-4a7a-b72c-c36402b5c63f",
   "metadata": {},
   "outputs": [
    {
     "data": {
      "text/plain": [
       "array([[45,  6],\n",
       "       [12, 27]], dtype=int64)"
      ]
     },
     "execution_count": 67,
     "metadata": {},
     "output_type": "execute_result"
    }
   ],
   "source": [
    "confusion_matrix(y_test,y_prediction)"
   ]
  },
  {
   "cell_type": "code",
   "execution_count": 17,
   "id": "d8137838-121a-412a-9fb3-6349e72dda58",
   "metadata": {},
   "outputs": [
    {
     "data": {
      "text/plain": [
       "array([0., 1., 1., 0., 0., 0., 0., 0., 1., 1., 0., 0., 1., 0., 0., 0., 0.,\n",
       "       0., 0., 1., 0., 0., 1., 1., 0., 0., 0., 0., 0., 0., 1., 1., 1., 0.,\n",
       "       0., 1., 0., 0., 0., 1., 1., 1., 1., 0., 0., 0., 0., 0., 0., 0., 1.,\n",
       "       0., 1., 1., 1., 0., 0., 0., 0., 1., 1., 0., 0., 1., 0., 0., 1., 1.,\n",
       "       1., 0., 1., 0., 0., 0., 1., 1., 0., 0., 0., 0., 0., 1., 0., 0., 1.,\n",
       "       0., 0., 1., 0., 1.])"
      ]
     },
     "execution_count": 17,
     "metadata": {},
     "output_type": "execute_result"
    }
   ],
   "source": [
    "y_prediction"
   ]
  },
  {
   "cell_type": "code",
   "execution_count": null,
   "id": "cca0c562-351f-4a53-b019-af512da8367d",
   "metadata": {},
   "outputs": [],
   "source": []
  },
  {
   "cell_type": "code",
   "execution_count": 152,
   "id": "26a8ff31-e53a-4a96-9d74-7e55d88785f6",
   "metadata": {},
   "outputs": [],
   "source": [
    "# SVM Model Prediction"
   ]
  },
  {
   "cell_type": "code",
   "execution_count": 153,
   "id": "8036bbf1-dfcb-48e7-8f1f-1593497d80f5",
   "metadata": {},
   "outputs": [],
   "source": [
    "from sklearn.svm import SVR"
   ]
  },
  {
   "cell_type": "code",
   "execution_count": 154,
   "id": "a747e776-52a6-4ea2-b416-012605867acd",
   "metadata": {},
   "outputs": [],
   "source": [
    "svr_model = SVR()"
   ]
  },
  {
   "cell_type": "code",
   "execution_count": 155,
   "id": "4317c9d3-2346-446f-a1be-3dc3a0cd4690",
   "metadata": {},
   "outputs": [
    {
     "data": {
      "text/plain": [
       "SVR()"
      ]
     },
     "execution_count": 155,
     "metadata": {},
     "output_type": "execute_result"
    }
   ],
   "source": [
    "svr_model.fit(X_train,y_train)"
   ]
  },
  {
   "cell_type": "code",
   "execution_count": 156,
   "id": "26cf7ea9-8ffc-4369-b18c-02ac84a821a1",
   "metadata": {},
   "outputs": [],
   "source": [
    "y_predictions = svr_model.predict(X_test)"
   ]
  },
  {
   "cell_type": "code",
   "execution_count": 160,
   "id": "b5d69fd2-eb15-49f8-a72e-bdadb08417dc",
   "metadata": {},
   "outputs": [],
   "source": [
    "param_grid = {'C':[0.001,0.01,0.1,0.5,1],\n",
    "             'kernel':['linear','rbf','poly'],\n",
    "              'gamma':['scale','auto'],\n",
    "              'degree':[2,3,4],\n",
    "              'epsilon':[0,0.01,0.1,0.5,1,2]\n",
    "             }"
   ]
  },
  {
   "cell_type": "code",
   "execution_count": 161,
   "id": "b45ec73b-46c3-41ad-bf81-fdaff5f97c98",
   "metadata": {},
   "outputs": [],
   "source": [
    "grid_model = GridSearchCV(estimator=svr_model,param_grid=param_grid)"
   ]
  },
  {
   "cell_type": "code",
   "execution_count": null,
   "id": "78499cb3-70f0-44b5-85f0-bb4a3fcea944",
   "metadata": {},
   "outputs": [],
   "source": [
    "grid_model.fit(X_train,y_train)"
   ]
  },
  {
   "cell_type": "code",
   "execution_count": 166,
   "id": "027ab79a-aa87-4584-a175-cc44cf7d2c29",
   "metadata": {},
   "outputs": [],
   "source": [
    "y_predictions = grid_model.predict(Scaled_X_test)"
   ]
  },
  {
   "cell_type": "code",
   "execution_count": 18,
   "id": "9a41b49c-4c3c-44d7-91d2-4d62b398bf39",
   "metadata": {},
   "outputs": [],
   "source": [
    "# print(classification_report(y_test,y_predictions))"
   ]
  },
  {
   "cell_type": "code",
   "execution_count": null,
   "id": "ff7fb87f-10df-4fdb-b249-121cf97ffa98",
   "metadata": {},
   "outputs": [],
   "source": []
  },
  {
   "cell_type": "code",
   "execution_count": null,
   "id": "6ff85c69-82bf-4828-bf0d-1a95410b8fa0",
   "metadata": {},
   "outputs": [],
   "source": []
  },
  {
   "cell_type": "code",
   "execution_count": 163,
   "id": "c50e59a7-84b1-4d01-ad2c-f94e7c530261",
   "metadata": {},
   "outputs": [],
   "source": [
    "# Random Forest Model predictions"
   ]
  },
  {
   "cell_type": "code",
   "execution_count": 19,
   "id": "a07f25c0-f5af-4a2f-a865-80cb34356d67",
   "metadata": {},
   "outputs": [],
   "source": [
    "from sklearn.ensemble import RandomForestClassifier\n",
    "from sklearn.model_selection import GridSearchCV"
   ]
  },
  {
   "cell_type": "code",
   "execution_count": 20,
   "id": "0905fcb7-799c-4746-bcbe-e35f35bc7a23",
   "metadata": {},
   "outputs": [],
   "source": [
    "n_estimators = [10,50,100,200,300]\n",
    "\n",
    "grid_param = {'n_estimators':n_estimators}"
   ]
  },
  {
   "cell_type": "code",
   "execution_count": 21,
   "id": "f830c0f1-91ac-412b-9484-7b41e87cb833",
   "metadata": {},
   "outputs": [],
   "source": [
    "model_Rf = RandomForestClassifier()"
   ]
  },
  {
   "cell_type": "code",
   "execution_count": 22,
   "id": "b463f43d-718b-447b-af77-90168815eede",
   "metadata": {},
   "outputs": [],
   "source": [
    "model = GridSearchCV(estimator=model_Rf,param_grid=grid_param)"
   ]
  },
  {
   "cell_type": "code",
   "execution_count": 23,
   "id": "02c57de3-85bf-4be1-ac58-c2666cba5196",
   "metadata": {},
   "outputs": [
    {
     "data": {
      "text/plain": [
       "GridSearchCV(estimator=RandomForestClassifier(),\n",
       "             param_grid={'n_estimators': [10, 50, 100, 200, 300]})"
      ]
     },
     "execution_count": 23,
     "metadata": {},
     "output_type": "execute_result"
    }
   ],
   "source": [
    "model.fit(X_train,y_train)"
   ]
  },
  {
   "cell_type": "code",
   "execution_count": 91,
   "id": "bc3bf859-1dbf-4ec0-840c-ed67cf0530a9",
   "metadata": {},
   "outputs": [
    {
     "data": {
      "text/plain": [
       "{'n_estimators': 300}"
      ]
     },
     "execution_count": 91,
     "metadata": {},
     "output_type": "execute_result"
    }
   ],
   "source": [
    "model.best_params_"
   ]
  },
  {
   "cell_type": "code",
   "execution_count": 24,
   "id": "b919a202-e676-47ca-8f34-45c7e5a2c4ce",
   "metadata": {},
   "outputs": [],
   "source": [
    "model_Rf = RandomForestClassifier(n_estimators=200)"
   ]
  },
  {
   "cell_type": "code",
   "execution_count": 25,
   "id": "93c80471-d47f-4a04-b320-20e3305385c2",
   "metadata": {},
   "outputs": [
    {
     "data": {
      "text/plain": [
       "RandomForestClassifier(n_estimators=200)"
      ]
     },
     "execution_count": 25,
     "metadata": {},
     "output_type": "execute_result"
    }
   ],
   "source": [
    "model_Rf.fit(X_train,y_train)"
   ]
  },
  {
   "cell_type": "code",
   "execution_count": 26,
   "id": "19b1d928-8472-4764-8f3d-35594847cb5a",
   "metadata": {},
   "outputs": [],
   "source": [
    "y_predictions = model_Rf.predict(X_test)"
   ]
  },
  {
   "cell_type": "code",
   "execution_count": 27,
   "id": "6181d608-c2c5-4c24-b1a4-f8e3a13a7d76",
   "metadata": {},
   "outputs": [
    {
     "name": "stdout",
     "output_type": "stream",
     "text": [
      "              precision    recall  f1-score   support\n",
      "\n",
      "         0.0       0.77      0.96      0.85        51\n",
      "         1.0       0.92      0.62      0.74        39\n",
      "\n",
      "    accuracy                           0.81        90\n",
      "   macro avg       0.84      0.79      0.80        90\n",
      "weighted avg       0.83      0.81      0.80        90\n",
      "\n"
     ]
    }
   ],
   "source": [
    "print(classification_report(y_test,y_predictions))"
   ]
  },
  {
   "cell_type": "code",
   "execution_count": 28,
   "id": "4c6872d9-65c7-485d-95dc-ec38f08aaf97",
   "metadata": {},
   "outputs": [
    {
     "data": {
      "text/plain": [
       "array([[49,  2],\n",
       "       [15, 24]], dtype=int64)"
      ]
     },
     "execution_count": 28,
     "metadata": {},
     "output_type": "execute_result"
    }
   ],
   "source": [
    "confusion_matrix(y_test,y_predictions)"
   ]
  },
  {
   "cell_type": "code",
   "execution_count": null,
   "id": "458f4463-fac2-4642-9f41-4375e5be9d10",
   "metadata": {},
   "outputs": [],
   "source": []
  },
  {
   "cell_type": "code",
   "execution_count": null,
   "id": "56b3c3bf-a55a-4a76-94de-ea10d3a825ed",
   "metadata": {},
   "outputs": [],
   "source": []
  },
  {
   "cell_type": "code",
   "execution_count": null,
   "id": "63889792-5b8a-402f-8997-8347e21d1d08",
   "metadata": {},
   "outputs": [],
   "source": []
  },
  {
   "cell_type": "code",
   "execution_count": 117,
   "id": "43090a1a-ccc9-4077-a464-468ed59a17e8",
   "metadata": {},
   "outputs": [],
   "source": [
    "# Decision Trees Model Predictions"
   ]
  },
  {
   "cell_type": "code",
   "execution_count": 118,
   "id": "e2d66b7d-8b40-4218-828c-48345b19ac61",
   "metadata": {},
   "outputs": [],
   "source": [
    "from sklearn.tree import DecisionTreeClassifier"
   ]
  },
  {
   "cell_type": "code",
   "execution_count": 122,
   "id": "2b398652-7887-49e7-894e-4dacd2284b4c",
   "metadata": {},
   "outputs": [],
   "source": [
    "criterion = [\"gini\", \"entropy\"]\n",
    "max_features = ['auto','sqrt']\n",
    "grid_param = {'criterion':criterion,'max_features':max_features}"
   ]
  },
  {
   "cell_type": "code",
   "execution_count": 123,
   "id": "33352a1b-b1fc-45e4-b0d8-7adf4abbab4b",
   "metadata": {},
   "outputs": [],
   "source": [
    "model_decision = DecisionTreeClassifier()"
   ]
  },
  {
   "cell_type": "code",
   "execution_count": 124,
   "id": "a867e861-2e61-4dcb-867c-4d6868a6eb6e",
   "metadata": {},
   "outputs": [],
   "source": [
    "grid_model = GridSearchCV(estimator=model_decision,param_grid=grid_param)"
   ]
  },
  {
   "cell_type": "code",
   "execution_count": 125,
   "id": "88f3a70e-244c-483f-9c6c-9f53eef48270",
   "metadata": {},
   "outputs": [
    {
     "data": {
      "text/plain": [
       "GridSearchCV(estimator=DecisionTreeClassifier(),\n",
       "             param_grid={'criterion': ['gini', 'entropy'],\n",
       "                         'max_features': ['auto', 'sqrt']})"
      ]
     },
     "execution_count": 125,
     "metadata": {},
     "output_type": "execute_result"
    }
   ],
   "source": [
    "grid_model.fit(X_train,y_train)"
   ]
  },
  {
   "cell_type": "code",
   "execution_count": 126,
   "id": "1cb7d647-59e7-429e-9ba9-4f236ebf067a",
   "metadata": {},
   "outputs": [
    {
     "data": {
      "text/plain": [
       "{'criterion': 'entropy', 'max_features': 'sqrt'}"
      ]
     },
     "execution_count": 126,
     "metadata": {},
     "output_type": "execute_result"
    }
   ],
   "source": [
    "grid_model.best_params_"
   ]
  },
  {
   "cell_type": "code",
   "execution_count": 128,
   "id": "1b626762-6fc2-42a0-bcec-ce162fa57f4e",
   "metadata": {},
   "outputs": [],
   "source": [
    "y_predictions = grid_model.predict(X_test)"
   ]
  },
  {
   "cell_type": "code",
   "execution_count": 130,
   "id": "2e89355a-f358-4e82-b96b-034ebc8a6565",
   "metadata": {},
   "outputs": [
    {
     "name": "stdout",
     "output_type": "stream",
     "text": [
      "              precision    recall  f1-score   support\n",
      "\n",
      "         0.0       0.68      0.76      0.72        51\n",
      "         1.0       0.64      0.54      0.58        39\n",
      "\n",
      "    accuracy                           0.67        90\n",
      "   macro avg       0.66      0.65      0.65        90\n",
      "weighted avg       0.66      0.67      0.66        90\n",
      "\n"
     ]
    }
   ],
   "source": [
    "print(classification_report(y_test,y_predictions))"
   ]
  },
  {
   "cell_type": "code",
   "execution_count": null,
   "id": "911dc91f-03d6-4895-93ca-513cafb5eb02",
   "metadata": {},
   "outputs": [],
   "source": []
  },
  {
   "cell_type": "code",
   "execution_count": null,
   "id": "d974dd86-8d2e-47d2-bc11-da2c9f080d3c",
   "metadata": {},
   "outputs": [],
   "source": []
  },
  {
   "cell_type": "code",
   "execution_count": 131,
   "id": "2da2c3a3-950c-4b82-8c79-ac6551459b34",
   "metadata": {},
   "outputs": [],
   "source": [
    "# KNN model predictions"
   ]
  },
  {
   "cell_type": "code",
   "execution_count": 36,
   "id": "0d9664a2-3774-49b7-b2d3-56ff7dc0c57b",
   "metadata": {},
   "outputs": [],
   "source": [
    "from sklearn.neighbors import KNeighborsClassifier"
   ]
  },
  {
   "cell_type": "code",
   "execution_count": 37,
   "id": "dc21ded4-a0bc-4570-8afe-69c36e955969",
   "metadata": {},
   "outputs": [],
   "source": []
  },
  {
   "cell_type": "code",
   "execution_count": 44,
   "id": "d2936c74-8456-4f9c-9098-01caac722d34",
   "metadata": {},
   "outputs": [],
   "source": [
    "test_error_rates = []\n",
    "\n",
    "\n",
    "for k in range(1,30):\n",
    "    knn_model = KNeighborsClassifier(n_neighbors=k)\n",
    "    knn_model.fit(X_train,y_train) \n",
    "   \n",
    "    y_pred_test = knn_model.predict(Scaled_X_test)\n",
    "    \n",
    "    test_error = 1 - accuracy_score(y_test,y_pred_test)\n",
    "    test_error_rates.append(test_error)"
   ]
  },
  {
   "cell_type": "code",
   "execution_count": 45,
   "id": "a2d3683b-4b63-40d7-b02a-c3bd711150c5",
   "metadata": {},
   "outputs": [
    {
     "data": {
      "text/plain": [
       "Text(0.5, 0, 'K Value')"
      ]
     },
     "execution_count": 45,
     "metadata": {},
     "output_type": "execute_result"
    },
    {
     "data": {
      "image/png": "[encoded data removed]",
      "text/plain": [
       "<Figure size 2000x1200 with 1 Axes>"
      ]
     },
     "metadata": {
      "needs_background": "light"
     },
     "output_type": "display_data"
    }
   ],
   "source": [
    "plt.figure(figsize=(10,6),dpi=200)\n",
    "plt.plot(range(1,30),test_error_rates,label='Test Error')\n",
    "plt.legend()\n",
    "plt.ylabel('Error Rate')\n",
    "plt.xlabel(\"K Value\")"
   ]
  },
  {
   "cell_type": "code",
   "execution_count": 59,
   "id": "310bac4d-5750-4088-b2c9-065042259c58",
   "metadata": {},
   "outputs": [],
   "source": [
    "model_knn = KNeighborsClassifier()"
   ]
  },
  {
   "cell_type": "code",
   "execution_count": 60,
   "id": "7f6113b0-cb43-4704-a502-fa351d269a8d",
   "metadata": {},
   "outputs": [
    {
     "data": {
      "text/plain": [
       "KNeighborsClassifier()"
      ]
     },
     "execution_count": 60,
     "metadata": {},
     "output_type": "execute_result"
    }
   ],
   "source": [
    "model_knn.fit(X_train,y_train)"
   ]
  },
  {
   "cell_type": "code",
   "execution_count": 61,
   "id": "bc2c7cc4-4d0c-4775-850e-749dc1d61fea",
   "metadata": {},
   "outputs": [],
   "source": [
    "y_predictions = model_knn.predict(X_test)"
   ]
  },
  {
   "cell_type": "code",
   "execution_count": 62,
   "id": "be98979c-64fe-4067-b683-7edc6305c1d1",
   "metadata": {},
   "outputs": [
    {
     "name": "stdout",
     "output_type": "stream",
     "text": [
      "              precision    recall  f1-score   support\n",
      "\n",
      "         0.0       0.60      0.78      0.68        51\n",
      "         1.0       0.52      0.31      0.39        39\n",
      "\n",
      "    accuracy                           0.58        90\n",
      "   macro avg       0.56      0.55      0.53        90\n",
      "weighted avg       0.56      0.58      0.55        90\n",
      "\n"
     ]
    }
   ],
   "source": [
    "print(classification_report(y_test,y_predictions))"
   ]
  },
  {
   "cell_type": "code",
   "execution_count": null,
   "id": "10337f65-7cb6-4bb8-bcfa-d1c627ba261a",
   "metadata": {},
   "outputs": [],
   "source": []
  }
 ],
 "metadata": {
  "kernelspec": {
   "display_name": "Python 3",
   "language": "python",
   "name": "python3"
  },
  "language_info": {
   "codemirror_mode": {
    "name": "ipython",
    "version": 3
   },
   "file_extension": ".py",
   "mimetype": "text/x-python",
   "name": "python",
   "nbconvert_exporter": "python",
   "pygments_lexer": "ipython3",
   "version": "3.8.8"
  }
 },
 "nbformat": 4,
 "nbformat_minor": 5
}
