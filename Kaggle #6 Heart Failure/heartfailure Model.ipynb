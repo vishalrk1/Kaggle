{
 "cells": [
  {
   "cell_type": "code",
   "execution_count": 24,
   "id": "063cc481-5862-4dc5-90c3-c8b3e1871f30",
   "metadata": {},
   "outputs": [],
   "source": [
    "import numpy as np \n",
    "import pandas as pd\n",
    "import matplotlib.pyplot as plt\n",
    "import seaborn as sns\n",
    "\n",
    "from sklearn.metrics import accuracy_score,classification_report,plot_confusion_matrix,f1_score"
   ]
  },
  {
   "cell_type": "code",
   "execution_count": 2,
   "id": "b9213362-59b4-46ca-a8cf-710316d98d84",
   "metadata": {},
   "outputs": [],
   "source": [
    "df = pd.read_csv(\"heart_failure_clinical_records_dataset.csv\")"
   ]
  },
  {
   "cell_type": "code",
   "execution_count": 3,
   "id": "983bcbdc-338c-4603-9253-92298f72f86f",
   "metadata": {},
   "outputs": [
    {
     "data": {
      "text/html": [
       "<div>\n",
       "<style scoped>\n",
       "    .dataframe tbody tr th:only-of-type {\n",
       "        vertical-align: middle;\n",
       "    }\n",
       "\n",
       "    .dataframe tbody tr th {\n",
       "        vertical-align: top;\n",
       "    }\n",
       "\n",
       "    .dataframe thead th {\n",
       "        text-align: right;\n",
       "    }\n",
       "</style>\n",
       "<table border=\"1\" class=\"dataframe\">\n",
       "  <thead>\n",
       "    <tr style=\"text-align: right;\">\n",
       "      <th></th>\n",
       "      <th>age</th>\n",
       "      <th>anaemia</th>\n",
       "      <th>creatinine_phosphokinase</th>\n",
       "      <th>diabetes</th>\n",
       "      <th>ejection_fraction</th>\n",
       "      <th>high_blood_pressure</th>\n",
       "      <th>platelets</th>\n",
       "      <th>serum_creatinine</th>\n",
       "      <th>serum_sodium</th>\n",
       "      <th>sex</th>\n",
       "      <th>smoking</th>\n",
       "      <th>time</th>\n",
       "      <th>DEATH_EVENT</th>\n",
       "    </tr>\n",
       "  </thead>\n",
       "  <tbody>\n",
       "    <tr>\n",
       "      <th>0</th>\n",
       "      <td>75.0</td>\n",
       "      <td>0</td>\n",
       "      <td>582</td>\n",
       "      <td>0</td>\n",
       "      <td>20</td>\n",
       "      <td>1</td>\n",
       "      <td>265000.00</td>\n",
       "      <td>1.9</td>\n",
       "      <td>130</td>\n",
       "      <td>1</td>\n",
       "      <td>0</td>\n",
       "      <td>4</td>\n",
       "      <td>1</td>\n",
       "    </tr>\n",
       "    <tr>\n",
       "      <th>1</th>\n",
       "      <td>55.0</td>\n",
       "      <td>0</td>\n",
       "      <td>7861</td>\n",
       "      <td>0</td>\n",
       "      <td>38</td>\n",
       "      <td>0</td>\n",
       "      <td>263358.03</td>\n",
       "      <td>1.1</td>\n",
       "      <td>136</td>\n",
       "      <td>1</td>\n",
       "      <td>0</td>\n",
       "      <td>6</td>\n",
       "      <td>1</td>\n",
       "    </tr>\n",
       "    <tr>\n",
       "      <th>2</th>\n",
       "      <td>65.0</td>\n",
       "      <td>0</td>\n",
       "      <td>146</td>\n",
       "      <td>0</td>\n",
       "      <td>20</td>\n",
       "      <td>0</td>\n",
       "      <td>162000.00</td>\n",
       "      <td>1.3</td>\n",
       "      <td>129</td>\n",
       "      <td>1</td>\n",
       "      <td>1</td>\n",
       "      <td>7</td>\n",
       "      <td>1</td>\n",
       "    </tr>\n",
       "    <tr>\n",
       "      <th>3</th>\n",
       "      <td>50.0</td>\n",
       "      <td>1</td>\n",
       "      <td>111</td>\n",
       "      <td>0</td>\n",
       "      <td>20</td>\n",
       "      <td>0</td>\n",
       "      <td>210000.00</td>\n",
       "      <td>1.9</td>\n",
       "      <td>137</td>\n",
       "      <td>1</td>\n",
       "      <td>0</td>\n",
       "      <td>7</td>\n",
       "      <td>1</td>\n",
       "    </tr>\n",
       "    <tr>\n",
       "      <th>4</th>\n",
       "      <td>65.0</td>\n",
       "      <td>1</td>\n",
       "      <td>160</td>\n",
       "      <td>1</td>\n",
       "      <td>20</td>\n",
       "      <td>0</td>\n",
       "      <td>327000.00</td>\n",
       "      <td>2.7</td>\n",
       "      <td>116</td>\n",
       "      <td>0</td>\n",
       "      <td>0</td>\n",
       "      <td>8</td>\n",
       "      <td>1</td>\n",
       "    </tr>\n",
       "  </tbody>\n",
       "</table>\n",
       "</div>"
      ],
      "text/plain": [
       "    age  anaemia  creatinine_phosphokinase  diabetes  ejection_fraction  \\\n",
       "0  75.0        0                       582         0                 20   \n",
       "1  55.0        0                      7861         0                 38   \n",
       "2  65.0        0                       146         0                 20   \n",
       "3  50.0        1                       111         0                 20   \n",
       "4  65.0        1                       160         1                 20   \n",
       "\n",
       "   high_blood_pressure  platelets  serum_creatinine  serum_sodium  sex  \\\n",
       "0                    1  265000.00               1.9           130    1   \n",
       "1                    0  263358.03               1.1           136    1   \n",
       "2                    0  162000.00               1.3           129    1   \n",
       "3                    0  210000.00               1.9           137    1   \n",
       "4                    0  327000.00               2.7           116    0   \n",
       "\n",
       "   smoking  time  DEATH_EVENT  \n",
       "0        0     4            1  \n",
       "1        0     6            1  \n",
       "2        1     7            1  \n",
       "3        0     7            1  \n",
       "4        0     8            1  "
      ]
     },
     "execution_count": 3,
     "metadata": {},
     "output_type": "execute_result"
    }
   ],
   "source": [
    "df.head()"
   ]
  },
  {
   "cell_type": "code",
   "execution_count": 4,
   "id": "97d6dc69-c246-47c6-9298-8dba4b5e2c2d",
   "metadata": {},
   "outputs": [
    {
     "name": "stdout",
     "output_type": "stream",
     "text": [
      "<class 'pandas.core.frame.DataFrame'>\n",
      "RangeIndex: 299 entries, 0 to 298\n",
      "Data columns (total 13 columns):\n",
      " #   Column                    Non-Null Count  Dtype  \n",
      "---  ------                    --------------  -----  \n",
      " 0   age                       299 non-null    float64\n",
      " 1   anaemia                   299 non-null    int64  \n",
      " 2   creatinine_phosphokinase  299 non-null    int64  \n",
      " 3   diabetes                  299 non-null    int64  \n",
      " 4   ejection_fraction         299 non-null    int64  \n",
      " 5   high_blood_pressure       299 non-null    int64  \n",
      " 6   platelets                 299 non-null    float64\n",
      " 7   serum_creatinine          299 non-null    float64\n",
      " 8   serum_sodium              299 non-null    int64  \n",
      " 9   sex                       299 non-null    int64  \n",
      " 10  smoking                   299 non-null    int64  \n",
      " 11  time                      299 non-null    int64  \n",
      " 12  DEATH_EVENT               299 non-null    int64  \n",
      "dtypes: float64(3), int64(10)\n",
      "memory usage: 30.5 KB\n"
     ]
    }
   ],
   "source": [
    "df.info()"
   ]
  },
  {
   "cell_type": "code",
   "execution_count": 7,
   "id": "01e03d79-2742-439b-96ef-63dd97ebd928",
   "metadata": {},
   "outputs": [
    {
     "data": {
      "text/plain": [
       "time                       -0.526964\n",
       "ejection_fraction          -0.268603\n",
       "serum_sodium               -0.195204\n",
       "platelets                  -0.049139\n",
       "smoking                    -0.012623\n",
       "sex                        -0.004316\n",
       "diabetes                   -0.001943\n",
       "creatinine_phosphokinase    0.062728\n",
       "anaemia                     0.066270\n",
       "high_blood_pressure         0.079351\n",
       "age                         0.253729\n",
       "serum_creatinine            0.294278\n",
       "DEATH_EVENT                 1.000000\n",
       "Name: DEATH_EVENT, dtype: float64"
      ]
     },
     "execution_count": 7,
     "metadata": {},
     "output_type": "execute_result"
    }
   ],
   "source": [
    "df.corr()['DEATH_EVENT'].sort_values()"
   ]
  },
  {
   "cell_type": "code",
   "execution_count": 28,
   "id": "d729cedf-ac79-4fbe-af75-4664120c20ba",
   "metadata": {},
   "outputs": [],
   "source": [
    "from sklearn.preprocessing import StandardScaler,MinMaxScaler\n",
    "from sklearn.model_selection import  train_test_split, GridSearchCV\n",
    "from sklearn.ensemble import RandomForestClassifier,AdaBoostClassifier\n",
    "from sklearn.tree import DecisionTreeClassifier\n",
    "from sklearn.linear_model import LogisticRegression"
   ]
  },
  {
   "cell_type": "code",
   "execution_count": 13,
   "id": "97b24ae5-0cc8-4caf-9324-8c7a84d18230",
   "metadata": {},
   "outputs": [],
   "source": [
    "X = df.drop('DEATH_EVENT',axis=1)"
   ]
  },
  {
   "cell_type": "code",
   "execution_count": 14,
   "id": "4a695faa-4702-4ef9-952e-24bbfcce44d9",
   "metadata": {},
   "outputs": [],
   "source": [
    "y = df['DEATH_EVENT']"
   ]
  },
  {
   "cell_type": "code",
   "execution_count": 16,
   "id": "c1973d37-fe52-48ee-909a-200df2070580",
   "metadata": {},
   "outputs": [],
   "source": [
    "X_train, X_test, y_train, y_test = train_test_split(X, y, test_size=0.2, random_state=101)"
   ]
  },
  {
   "cell_type": "code",
   "execution_count": 67,
   "id": "511109e5-5a3e-4e84-aa6f-5fbd740cc405",
   "metadata": {},
   "outputs": [],
   "source": [
    "scaler = StandardScaler()"
   ]
  },
  {
   "cell_type": "code",
   "execution_count": 68,
   "id": "bb036998-16e3-499d-a9ec-a3c646ff02ab",
   "metadata": {},
   "outputs": [],
   "source": [
    "scaled_X_train = scaler.fit_transform(X_train)"
   ]
  },
  {
   "cell_type": "code",
   "execution_count": 69,
   "id": "321d1b19-cbcd-4ac4-ab09-0b07ec4de37a",
   "metadata": {},
   "outputs": [],
   "source": [
    "scaled_X_test = scaler.transform(X_test)"
   ]
  },
  {
   "cell_type": "code",
   "execution_count": 70,
   "id": "006675b6-f07c-45cf-acb0-a5a96a053580",
   "metadata": {},
   "outputs": [],
   "source": [
    "def result(model):\n",
    "    model.fit(scaled_X_train,y_train)\n",
    "    y_predictions = model.predict(scaled_X_test)\n",
    "    print(f'accuracy: {accuracy_score(y_test,y_predictions)}')\n",
    "    print(f'F1 Score : {f1_score(y_test,y_predictions)}')\n",
    "    print(classification_report(y_test,y_predictions))"
   ]
  },
  {
   "cell_type": "code",
   "execution_count": 71,
   "id": "848195e9-44df-43aa-ae1c-44cad46ef07b",
   "metadata": {},
   "outputs": [],
   "source": [
    "def gridSearch(model,param_grid):\n",
    "    grid_model = GridSearchCV(estimator=model,param_grid=param_grid,cv=5,scoring='accuracy')\n",
    "    grid_model.fit(scaled_X_train,y_train)\n",
    "    y_predictions = grid_model.predict(scaled_X_test)\n",
    "    print(f'Grid Model best Param: {grid_model.best_params_}')\n",
    "    print(f'accuracy: {accuracy_score(y_test,y_predictions)}')\n",
    "    print(f'F1 Score : {f1_score(y_test,y_predictions)}')\n",
    "    print(classification_report(y_test,y_predictions))"
   ]
  },
  {
   "cell_type": "code",
   "execution_count": 72,
   "id": "55f8616d-351a-488e-8f71-91100400da87",
   "metadata": {},
   "outputs": [],
   "source": [
    "rf_model = RandomForestClassifier()"
   ]
  },
  {
   "cell_type": "code",
   "execution_count": 73,
   "id": "f6cea153-565e-4dc0-84bc-2f473cf58426",
   "metadata": {},
   "outputs": [
    {
     "name": "stdout",
     "output_type": "stream",
     "text": [
      "accuracy: 0.8833333333333333\n",
      "F1 Score : 0.7741935483870969\n",
      "              precision    recall  f1-score   support\n",
      "\n",
      "           0       0.93      0.91      0.92        45\n",
      "           1       0.75      0.80      0.77        15\n",
      "\n",
      "    accuracy                           0.88        60\n",
      "   macro avg       0.84      0.86      0.85        60\n",
      "weighted avg       0.89      0.88      0.88        60\n",
      "\n"
     ]
    }
   ],
   "source": [
    "result(rf_model)"
   ]
  },
  {
   "cell_type": "code",
   "execution_count": 74,
   "id": "d646cb48-3fe6-4430-b3e2-52c8593331a8",
   "metadata": {},
   "outputs": [],
   "source": [
    "rf_param_grid = {\n",
    "    'n_estimators':[50,100,200,250],\n",
    "    'criterion':[\"gini\", \"entropy\"],\n",
    "}"
   ]
  },
  {
   "cell_type": "code",
   "execution_count": 75,
   "id": "94660a91-3d7d-4ab4-9bca-245135d1bfec",
   "metadata": {},
   "outputs": [
    {
     "name": "stdout",
     "output_type": "stream",
     "text": [
      "Grid Model best Param: {'criterion': 'entropy', 'n_estimators': 200}\n",
      "accuracy: 0.9\n",
      "F1 Score : 0.8125\n",
      "              precision    recall  f1-score   support\n",
      "\n",
      "           0       0.95      0.91      0.93        45\n",
      "           1       0.76      0.87      0.81        15\n",
      "\n",
      "    accuracy                           0.90        60\n",
      "   macro avg       0.86      0.89      0.87        60\n",
      "weighted avg       0.91      0.90      0.90        60\n",
      "\n"
     ]
    }
   ],
   "source": [
    "gridSearch(rf_model,rf_param_grid)"
   ]
  },
  {
   "cell_type": "code",
   "execution_count": null,
   "id": "532aea5c-8653-4950-8ecb-b443ff7b02fb",
   "metadata": {},
   "outputs": [],
   "source": []
  },
  {
   "cell_type": "code",
   "execution_count": 76,
   "id": "6dee2424-1f34-43ab-b971-7de62e265fc0",
   "metadata": {},
   "outputs": [],
   "source": [
    "dt_model = DecisionTreeClassifier() "
   ]
  },
  {
   "cell_type": "code",
   "execution_count": 77,
   "id": "3fc229d2-1aa0-4611-aad4-d1a97ce25c9c",
   "metadata": {},
   "outputs": [
    {
     "name": "stdout",
     "output_type": "stream",
     "text": [
      "accuracy: 0.8333333333333334\n",
      "F1 Score : 0.6666666666666666\n",
      "              precision    recall  f1-score   support\n",
      "\n",
      "           0       0.89      0.89      0.89        45\n",
      "           1       0.67      0.67      0.67        15\n",
      "\n",
      "    accuracy                           0.83        60\n",
      "   macro avg       0.78      0.78      0.78        60\n",
      "weighted avg       0.83      0.83      0.83        60\n",
      "\n"
     ]
    }
   ],
   "source": [
    "result(dt_model)"
   ]
  },
  {
   "cell_type": "code",
   "execution_count": null,
   "id": "59f0f613-7a71-44b0-b3ca-d5bffe606b02",
   "metadata": {},
   "outputs": [],
   "source": []
  }
 ],
 "metadata": {
  "kernelspec": {
   "display_name": "Python 3",
   "language": "python",
   "name": "python3"
  },
  "language_info": {
   "codemirror_mode": {
    "name": "ipython",
    "version": 3
   },
   "file_extension": ".py",
   "mimetype": "text/x-python",
   "name": "python",
   "nbconvert_exporter": "python",
   "pygments_lexer": "ipython3",
   "version": "3.8.8"
  }
 },
 "nbformat": 4,
 "nbformat_minor": 5
}
